{
 "cells": [
  {
   "cell_type": "markdown",
   "id": "84c53ba0-1308-4ab3-aa52-cbe670b748ce",
   "metadata": {},
   "source": [
    "# Leetcode questions based on Hashmaps and Sets"
   ]
  },
  {
   "cell_type": "code",
   "execution_count": 3,
   "id": "16620687-13d7-42a0-914a-1fcf574fdd90",
   "metadata": {},
   "outputs": [
    {
     "name": "stdout",
     "output_type": "stream",
     "text": [
      "1\n",
      "5\n",
      "7\n",
      "2\n",
      "6\n",
      "2\n"
     ]
    }
   ],
   "source": [
    "# Declaration: a hash map is declared like any other variable. The syntax is {}\n",
    "hash_map = {}\n",
    "\n",
    "# If you want to initialize it with some key value pairs, use the following syntax:\n",
    "hash_map = {1: 2, 5: 3, 7: 2}\n",
    "\n",
    "# Checking if a key exists: simply use the `in` keyword\n",
    "1 in hash_map # True\n",
    "9 in hash_map # False\n",
    "\n",
    "# Accessing a value given a key: use square brackets, similar to an array.\n",
    "hash_map[5] # 3\n",
    "\n",
    "# Adding or updating a key: use square brackets, similar to an array.\n",
    "# If the key already exists, the value will be updated\n",
    "hash_map[5] = 6\n",
    "\n",
    "# If the key doesn't exist yet, the key value pair will be inserted\n",
    "hash_map[9] = 15\n",
    "\n",
    "# Deleting a key: use the del keyword. Key must exist or you will get an error.\n",
    "del hash_map[9]\n",
    "\n",
    "# Get size\n",
    "len(hash_map) # 3\n",
    "\n",
    "# Get keys: use .keys(). You can iterate over this using a for loop.\n",
    "keys = hash_map.keys()\n",
    "for key in keys:\n",
    "    print(key)\n",
    "\n",
    "# Get values: use .values(). You can iterate over this using a for loop.\n",
    "values = hash_map.values()\n",
    "for val in values:\n",
    "    print(val)"
   ]
  },
  {
   "cell_type": "markdown",
   "id": "518e0a4c-3531-4bca-aec8-318ded843497",
   "metadata": {},
   "source": [
    "#### Q) Given an array of integers nums and an integer target, return indices of two numbers such that they add up to target. You cannot use the same index twice."
   ]
  },
  {
   "cell_type": "code",
   "execution_count": 9,
   "id": "4504d674-3023-4f16-b60c-1ac2531fe9ec",
   "metadata": {},
   "outputs": [
    {
     "name": "stdout",
     "output_type": "stream",
     "text": [
      "[0, 3]\n"
     ]
    }
   ],
   "source": [
    "from typing import List\n",
    "\n",
    "arr = [5, 2, 7, 10, 3, 9]\n",
    "target = 8\n",
    "\n",
    "# Use hashmap if the input is not sorted\n",
    "def two_sum_1(nums: List[int], target: int) -> List[int]:\n",
    "    dic = {}\n",
    "    for i in range(len(nums)):\n",
    "        num = nums[i]\n",
    "        complement = target - num\n",
    "        if complement in dic:\n",
    "            return [i, dic[complement]]\n",
    "        dic[num] = i\n",
    "\n",
    "    return [-1, -1]\n",
    "\n",
    "arr = [1, 2, 3, 4, 5]\n",
    "target = 5\n",
    "# If the array is sorted use two pointers\n",
    "def two_sum_2(nums: List[int], target: int) -> List[int]:\n",
    "    left = 0\n",
    "    right = len(nums) - 1\n",
    "\n",
    "    while left < right:\n",
    "        sum = nums[left] + nums[right]\n",
    "        if sum > target:\n",
    "            right -= 1\n",
    "        elif sum < target:\n",
    "            left += 1\n",
    "        else:\n",
    "            return [left, right]\n",
    "\n",
    "    return [-1, -1]\n",
    "\n",
    "print(two_sum_2(arr, target))"
   ]
  },
  {
   "cell_type": "markdown",
   "id": "b6e67e6f-4ba0-4bd8-9107-477551c32cbc",
   "metadata": {},
   "source": [
    "#### Q) Given a string s consisting of lowercase English letters, return the first letter to appear twice."
   ]
  },
  {
   "cell_type": "code",
   "execution_count": 3,
   "id": "470f5d0a-c433-4299-9e77-5464feaf04b0",
   "metadata": {},
   "outputs": [
    {
     "name": "stdout",
     "output_type": "stream",
     "text": [
      "c\n"
     ]
    }
   ],
   "source": [
    "from typing import Optional\n",
    "\n",
    "s = \"abccbaacz\"\n",
    "\n",
    "def first_letter(s: str) -> Optional[str]:\n",
    "    hash_map = {}\n",
    "\n",
    "    for character in s:\n",
    "        if character not in hash_map:\n",
    "            hash_map[character] = 0\n",
    "        hash_map[character] += 1\n",
    "        if hash_map[character] == 2:\n",
    "            return character\n",
    "\n",
    "    return None\n",
    "\n",
    "print(first_letter(s))"
   ]
  },
  {
   "cell_type": "markdown",
   "id": "be67d5c9-22e0-4139-b7bb-1d19244d5f69",
   "metadata": {},
   "source": [
    "#### Q) Given an integer array nums, find all the unique numbers x in nums that satisfy the following: x + 1 is not in nums, and x - 1 is not in nums."
   ]
  },
  {
   "cell_type": "code",
   "execution_count": 9,
   "id": "0f4580e4-e10d-4e3b-8ed8-ab190f673eea",
   "metadata": {},
   "outputs": [],
   "source": [
    "from typing import List\n",
    "\n",
    "nums = [10,6,5,8]\n",
    "\n",
    "def find_lonely(nums: List[int]) -> List[int]:\n",
    "    freq = {}\n",
    "    for num in nums:\n",
    "        if num in freq:\n",
    "            freq[num] += 1\n",
    "        else:\n",
    "            freq[num] = 1\n",
    "    \n",
    "    lonely_nums = []\n",
    "    for num in nums:\n",
    "        if freq[num] == 1 and (num + 1) not in freq and (num - 1) not in freq:\n",
    "            lonely_nums.append(num)\n",
    "    \n",
    "    return lonely_nums"
   ]
  },
  {
   "cell_type": "markdown",
   "id": "e2469849-c4ed-4c80-bf98-2a5ac5b6879e",
   "metadata": {},
   "source": [
    "#### Q) A pangram is a sentence where every letter of the English alphabet appears at least once. Given a string sentence containing only lowercase English letters, return true if sentence is a pangram, or false otherwise."
   ]
  },
  {
   "cell_type": "code",
   "execution_count": 16,
   "id": "7ec913f5-ab55-4b9b-b07e-52133ee2ba2f",
   "metadata": {},
   "outputs": [
    {
     "name": "stdout",
     "output_type": "stream",
     "text": [
      "True\n"
     ]
    }
   ],
   "source": [
    "sentence = \"thequickbrownfoxjumpsoverthelazydog\"\n",
    "\n",
    "def is_pangram(sentence: str) -> bool:\n",
    "    NUM_LETTERS_IN_ENGLISH_LANG = 26\n",
    "    char_set = set()\n",
    "    for character in sentence:\n",
    "        char_set.add(character)\n",
    "\n",
    "    return len(char_set) == NUM_LETTERS_IN_ENGLISH_LANG\n",
    "\n",
    "print(is_pangram(sentence))"
   ]
  },
  {
   "cell_type": "markdown",
   "id": "9e471c21-ca34-470a-9e91-052a3ab62d84",
   "metadata": {},
   "source": [
    "#### Q) Given an array nums containing n distinct numbers in the range [0, n], return the only number in the range that is missing from the array."
   ]
  },
  {
   "cell_type": "code",
   "execution_count": 19,
   "id": "b90bb22d-d244-493e-ba8b-55b281888617",
   "metadata": {},
   "outputs": [
    {
     "name": "stdout",
     "output_type": "stream",
     "text": [
      "2\n"
     ]
    }
   ],
   "source": [
    "from typing import List\n",
    "\n",
    "nums = [3,0,1]\n",
    "\n",
    "def missing_num_in_range(nums: List[int]) -> int:\n",
    "    num_set = set(nums)  # Convert list to set for O(1) average time complexity on lookups\n",
    "\n",
    "    n = len(nums)\n",
    "    for i in range(n):\n",
    "        if i not in num_set:\n",
    "            return i\n",
    "    return -1\n",
    "\n",
    "print(missing_num_in_range(nums))"
   ]
  },
  {
   "cell_type": "markdown",
   "id": "4f048d91-2f73-48a7-b406-5608167763e6",
   "metadata": {},
   "source": [
    "#### Q) Given an integer array arr, count how many elements x there are, such that x + 1 is also in arr. If there are duplicates in arr, count them separately."
   ]
  },
  {
   "cell_type": "code",
   "execution_count": 21,
   "id": "265c0544-2849-4b2f-9e0f-ccc1289562e0",
   "metadata": {},
   "outputs": [
    {
     "name": "stdout",
     "output_type": "stream",
     "text": [
      "2\n"
     ]
    }
   ],
   "source": [
    "arr = [1,2,3]\n",
    "\n",
    "def find_elements(arr: List[int]) -> int:\n",
    "    hash_set = set(arr)\n",
    "    count = 0\n",
    "    for num in arr:\n",
    "        if num + 1 in hash_set:\n",
    "            count += 1\n",
    "\n",
    "    return count\n",
    "\n",
    "print(find_elements(arr))"
   ]
  },
  {
   "cell_type": "markdown",
   "id": "602c2565-443e-4ac9-a463-4e964db8bcf4",
   "metadata": {},
   "source": [
    "#### Q) You are given a string s and an integer k. Find the length of the longest substring that contains at most k distinct characters."
   ]
  },
  {
   "cell_type": "code",
   "execution_count": 40,
   "id": "f91bd413-85dd-464b-9d97-de5609bbca99",
   "metadata": {},
   "outputs": [
    {
     "name": "stdout",
     "output_type": "stream",
     "text": [
      "3\n"
     ]
    }
   ],
   "source": [
    "s = \"eceba\"\n",
    "k = 2\n",
    "\n",
    "def longest_substring(s: str, k: int) -> int:\n",
    "    ptr1 =  longest_substring = 0\n",
    "    counts = {}\n",
    "\n",
    "    for ptr2 in range(len(s)):\n",
    "        if s[ptr2] not in counts:\n",
    "            counts[s[ptr2]] = 1\n",
    "        else:\n",
    "            counts[s[ptr2]] += 1\n",
    "\n",
    "        while len(counts) > k:\n",
    "            counts[s[ptr1]] -= 1\n",
    "            \n",
    "            if counts[s[ptr1]] == 0:\n",
    "                del counts[s[ptr1]]\n",
    "                \n",
    "            ptr1 += 1        \n",
    "\n",
    "        longest_substring = max(longest_substring, ptr2 - ptr1 + 1)\n",
    "\n",
    "    return longest_substring\n",
    "            \n",
    "\n",
    "print(longest_substring(s, k))"
   ]
  },
  {
   "cell_type": "markdown",
   "id": "5e299dee-afe0-4739-9c23-f7ae3e39ee37",
   "metadata": {},
   "source": [
    "#### Q) Given a 2D integer array nums where nums[i] is a non-empty array of distinct positive integers, return the list of integers that are present in each array of nums sorted in ascending order."
   ]
  },
  {
   "cell_type": "code",
   "execution_count": 18,
   "id": "f4cf829b-1db2-42a4-b25e-822b8289da7f",
   "metadata": {},
   "outputs": [
    {
     "name": "stdout",
     "output_type": "stream",
     "text": [
      "[3, 4]\n"
     ]
    }
   ],
   "source": [
    "from typing import List\n",
    "\n",
    "nums = [[3,1,2,4,5],[1,2,3,4],[3,4,5,6]]\n",
    "\n",
    "def ints_in_each_array(nums: List[List[int]]) -> List[int]:\n",
    "    counts = {}\n",
    "    ret_arr = []\n",
    "    for num_list in nums:\n",
    "        for num in num_list:\n",
    "            if num not in counts:\n",
    "                counts[num] = 0\n",
    "            counts[num] += 1\n",
    "\n",
    "    for num in counts:\n",
    "        if counts[num] == len(nums) and num not in ret_arr:\n",
    "            ret_arr.append(num)\n",
    "\n",
    "    ret_arr.sort()\n",
    "\n",
    "    return ret_arr\n",
    "\n",
    "print(ints_in_each_array(nums))"
   ]
  },
  {
   "cell_type": "markdown",
   "id": "b3ca2373-46f8-4964-b237-8f98c95a2a62",
   "metadata": {},
   "source": [
    "#### Q) Given a string s, return true if s is a good string, or false otherwise. A string s is good if all the characters that appear in s have the same number of occurrences (i.e., the same frequency)."
   ]
  },
  {
   "cell_type": "code",
   "execution_count": 28,
   "id": "fb31b076-f1e3-4f4d-b689-c5182084b1fe",
   "metadata": {},
   "outputs": [
    {
     "name": "stdout",
     "output_type": "stream",
     "text": [
      "True\n"
     ]
    }
   ],
   "source": [
    "s = \"abacbc\"\n",
    "\n",
    "def same_occurences(s: str) -> bool:\n",
    "    counts = {}\n",
    "    for char in s:\n",
    "        if char not in counts:\n",
    "            counts[char] = 0\n",
    "        counts[char] += 1\n",
    "\n",
    "    return len(set(counts.values())) == 1\n",
    "\n",
    "print(same_occurences(s))"
   ]
  },
  {
   "cell_type": "markdown",
   "id": "2d8f34ce-42c7-4025-8d12-c12db82c4f2e",
   "metadata": {},
   "source": [
    "#### Q) Given an array of integers nums and an integer k, return the total number of subarrays whose sum equals to k. A subarray is a contiguous non-empty sequence of elements within an array."
   ]
  },
  {
   "cell_type": "code",
   "execution_count": 29,
   "id": "5185285d-3bc4-42a3-8cdd-7dca5b2ac653",
   "metadata": {},
   "outputs": [
    {
     "name": "stdout",
     "output_type": "stream",
     "text": [
      "None\n"
     ]
    }
   ],
   "source": [
    "nums, k = [1,2,3],  3\n",
    "\n",
    "def sum_k_subarrays(nums: List[int], k: int) -> int:\n",
    "    coun\n",
    "\n",
    "print(sum_k_subarrays(nums, k))"
   ]
  },
  {
   "cell_type": "code",
   "execution_count": null,
   "id": "3f50ac59-f154-4c16-a32c-aba36271bbac",
   "metadata": {},
   "outputs": [],
   "source": []
  }
 ],
 "metadata": {
  "kernelspec": {
   "display_name": "Python 3 (ipykernel)",
   "language": "python",
   "name": "python3"
  },
  "language_info": {
   "codemirror_mode": {
    "name": "ipython",
    "version": 3
   },
   "file_extension": ".py",
   "mimetype": "text/x-python",
   "name": "python",
   "nbconvert_exporter": "python",
   "pygments_lexer": "ipython3",
   "version": "3.12.4"
  }
 },
 "nbformat": 4,
 "nbformat_minor": 5
}
