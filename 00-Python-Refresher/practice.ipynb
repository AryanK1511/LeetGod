{
 "cells": [
  {
   "cell_type": "markdown",
   "id": "0c84b3f5-32a9-4716-92ae-b11703587d84",
   "metadata": {},
   "source": [
    "# Python Refresher\n",
    "\n",
    "## Python Interpreter\n",
    "\n",
    "When people refer to the language, that is just the specification. When you download Python, you are actually downloading cPython, which is a program written in C to run your python code. \n",
    "\n",
    "**The Workflow**\n",
    "\n",
    "`Python file` -> `Interpreter` -> `Byte Code` -> `CPython VM` -> `Binary Code`"
   ]
  },
  {
   "cell_type": "code",
   "execution_count": 1,
   "id": "2bb4348a-08a2-4eed-921d-7b04eef68c8e",
   "metadata": {},
   "outputs": [
    {
     "name": "stdout",
     "output_type": "stream",
     "text": [
      "Hello World\n"
     ]
    }
   ],
   "source": [
    "print(\"Hello World\")"
   ]
  },
  {
   "cell_type": "code",
   "execution_count": 3,
   "id": "cfdab490-3162-46a6-85a2-e9aa3ee1f909",
   "metadata": {},
   "outputs": [
    {
     "name": "stdin",
     "output_type": "stream",
     "text": [
      "What is your name? Aryan\n"
     ]
    },
    {
     "name": "stdout",
     "output_type": "stream",
     "text": [
      "Hello Aryan\n"
     ]
    }
   ],
   "source": [
    "name = input(\"What is your name?\")\n",
    "print(\"Hello\", name)"
   ]
  },
  {
   "cell_type": "markdown",
   "id": "b2360b0d-ac87-48ea-9504-cda590c5419f",
   "metadata": {},
   "source": [
    "### `Python2` vs `Python3`\n",
    "\n",
    "Python3 introduced some breaking changes to Python2 in 2008. There are some differences between Python2 and Python3. Python2 is legacy and Python is not maintaining it anymore. "
   ]
  },
  {
   "cell_type": "markdown",
   "id": "9c5643e2-e67c-416e-9988-1dd2b37c98eb",
   "metadata": {},
   "source": [
    "## Datatypes in Python\n",
    "\n",
    "- Fundamental Data Types: int, float, complex, bool, str, list, tuple, set, dict\n",
    "- Classes -> Custom Types\n",
    "- Specialized Data Types from Modules\n",
    "- None"
   ]
  },
  {
   "cell_type": "code",
   "execution_count": 6,
   "id": "4a1303f9-4ada-4278-ba8d-dd320003b49f",
   "metadata": {},
   "outputs": [
    {
     "name": "stdout",
     "output_type": "stream",
     "text": [
      "<class 'int'>\n",
      "<class 'float'>\n"
     ]
    }
   ],
   "source": [
    "print(type(2 + 4))\n",
    "print(type(2 / 4))"
   ]
  },
  {
   "cell_type": "code",
   "execution_count": 8,
   "id": "e152d304-f086-4646-a0ec-e23db4c52c22",
   "metadata": {},
   "outputs": [
    {
     "name": "stdout",
     "output_type": "stream",
     "text": [
      "0\n",
      "3\n"
     ]
    }
   ],
   "source": [
    "print(3 // 4) # Integer division\n",
    "print(3 % 4) # Modulo operator"
   ]
  },
  {
   "cell_type": "code",
   "execution_count": 14,
   "id": "e5f5af2b-dc15-4aa6-971d-12180ea3bb95",
   "metadata": {},
   "outputs": [
    {
     "name": "stdout",
     "output_type": "stream",
     "text": [
      "3\n",
      "3\n",
      "4.5\n"
     ]
    }
   ],
   "source": [
    "# math functions\n",
    "print(round(3.1))\n",
    "print(round(2.8))\n",
    "print(abs(-4.5))"
   ]
  },
  {
   "cell_type": "code",
   "execution_count": 16,
   "id": "40386c4d-d7e1-4a13-97c6-55fc090f3f69",
   "metadata": {},
   "outputs": [
    {
     "name": "stdout",
     "output_type": "stream",
     "text": [
      "8\n"
     ]
    }
   ],
   "source": [
    "# Operator Precedence\n",
    "print(20 - 3 * 4)\n",
    "\n",
    "# 1. ()\n",
    "# 2. **\n",
    "# 3. * /\n",
    "# 4. + -"
   ]
  },
  {
   "cell_type": "code",
   "execution_count": 17,
   "id": "e5c8b7eb-55a2-4e6d-b4e6-9ab7a4117f86",
   "metadata": {},
   "outputs": [
    {
     "data": {
      "text/plain": [
       "'0b101'"
      ]
     },
     "execution_count": 17,
     "metadata": {},
     "output_type": "execute_result"
    }
   ],
   "source": [
    "bin(5)"
   ]
  },
  {
   "cell_type": "code",
   "execution_count": 19,
   "id": "5350120c-a12a-4f48-ae64-17a302235b40",
   "metadata": {},
   "outputs": [
    {
     "data": {
      "text/plain": [
       "'0x19'"
      ]
     },
     "execution_count": 19,
     "metadata": {},
     "output_type": "execute_result"
    }
   ],
   "source": [
    "hex(25)"
   ]
  },
  {
   "cell_type": "code",
   "execution_count": 22,
   "id": "9cfb15f9-643c-4990-ad81-d9bf2511252a",
   "metadata": {},
   "outputs": [
    {
     "name": "stdout",
     "output_type": "stream",
     "text": [
      "3.14\n"
     ]
    }
   ],
   "source": [
    "# All CAPS for constants\n",
    "PI = 3.14\n",
    "print(PI)\n",
    "\n",
    "# Python Magic methods are the methods starting and ending with double underscores ‘__’. \n",
    "# They are defined by built-in classes in Python and commonly used for operator overloading. "
   ]
  },
  {
   "cell_type": "code",
   "execution_count": 24,
   "id": "eb607428-86dd-4832-9ee7-8e9c49454249",
   "metadata": {},
   "outputs": [
    {
     "name": "stdout",
     "output_type": "stream",
     "text": [
      "1 2 3\n"
     ]
    }
   ],
   "source": [
    "a, b, c = 1, 2, 3\n",
    "print(a, b, c)"
   ]
  },
  {
   "cell_type": "code",
   "execution_count": 25,
   "id": "0b7c34be-e584-4009-a7eb-6b3b4164d1f5",
   "metadata": {},
   "outputs": [],
   "source": [
    "# Expressions vs statements\n",
    "\n",
    "iq = 100\n",
    "user_age = iq / 5 \n",
    "# iq / 5 is an expression. A piece of code that produces some value\n",
    "# The whole line is a statement"
   ]
  },
  {
   "cell_type": "code",
   "execution_count": 26,
   "id": "75ac4b50-2902-4472-841d-a0029c25e954",
   "metadata": {},
   "outputs": [
    {
     "name": "stdout",
     "output_type": "stream",
     "text": [
      "7\n"
     ]
    }
   ],
   "source": [
    "# Augmented assignment operator\n",
    "some_value = 5\n",
    "some_value += 2\n",
    "print(some_value)"
   ]
  },
  {
   "cell_type": "code",
   "execution_count": 40,
   "id": "b54449d2-511d-4182-8c92-92af2374bdfc",
   "metadata": {},
   "outputs": [
    {
     "name": "stdin",
     "output_type": "stream",
     "text": [
      "Enter your name:  A\n"
     ]
    },
    {
     "name": "stdout",
     "output_type": "stream",
     "text": [
      "Your name is A\n",
      "Your name is A\n",
      "Your name is A\n",
      "Your name is A\n",
      "Your name is A\n"
     ]
    }
   ],
   "source": [
    "a_string = \"Hello there! I am Aryan\"\n",
    "b_string = 'Hello there! I am Aryan'\n",
    "\n",
    "name = input(\"Enter your name: \")\n",
    "print(\"Your name is \" + name) # Using string concatenation\n",
    "print(\"Your name is\", name)\n",
    "print(f\"Your name is {name}\") # Using formatted strings\n",
    "print(\"Your name is {name}\".format(name=name)) # Using the str .format method\n",
    "print(\"Your name is {0}\".format(name))"
   ]
  },
  {
   "cell_type": "code",
   "execution_count": 41,
   "id": "e6a082f8-c6b1-4097-be18-7d1eee164cae",
   "metadata": {},
   "outputs": [
    {
     "name": "stdout",
     "output_type": "stream",
     "text": [
      "<class 'int'>\n"
     ]
    }
   ],
   "source": [
    "# Type conversion\n",
    "a = \"100\"\n",
    "b = int(a)\n",
    "print(type(b))"
   ]
  },
  {
   "cell_type": "code",
   "execution_count": 42,
   "id": "7f11d215-e7e5-4d3a-bb17-5b9efe02d97e",
   "metadata": {},
   "outputs": [
    {
     "name": "stdout",
     "output_type": "stream",
     "text": [
      "It's \"kind of\" sunny\n"
     ]
    }
   ],
   "source": [
    "# Escape Sequence \n",
    "\n",
    "weather = \"It's \\\"kind of\\\" sunny\"\n",
    "# \\t -> tab\n",
    "# \\n -> Newline character\n",
    "print(weather)"
   ]
  },
  {
   "cell_type": "code",
   "execution_count": 53,
   "id": "edd984dd-cef3-4985-abc2-167beaaf408a",
   "metadata": {},
   "outputs": [
    {
     "name": "stdout",
     "output_type": "stream",
     "text": [
      "i\n",
      "iiati\n",
      "gnirtsasisihT\n"
     ]
    }
   ],
   "source": [
    "# String indexing\n",
    "# Strings are immutable\n",
    "s = \"Thisisastring\"\n",
    "print(s[2])\n",
    "print(s[2:-1:2]) # start:stop:step\n",
    "\n",
    "# Reverse a string\n",
    "print(s[::-1])"
   ]
  },
  {
   "cell_type": "code",
   "execution_count": 54,
   "id": "624b205c-9095-473f-9ab3-96e5a387cd01",
   "metadata": {},
   "outputs": [
    {
     "name": "stdout",
     "output_type": "stream",
     "text": [
      "9\n"
     ]
    }
   ],
   "source": [
    "print(len(\"Hellooooo\"))"
   ]
  },
  {
   "cell_type": "markdown",
   "id": "fd313b29-b7af-4db6-85f4-471e3283e8cb",
   "metadata": {},
   "source": [
    "**Built-in functions vs methods**\n",
    "\n",
    "- Functions are like len()\n",
    "- Methods are attached to something like string methods str.format()"
   ]
  },
  {
   "cell_type": "code",
   "execution_count": 60,
   "id": "7ff4c932-422c-406d-876c-3c054643a455",
   "metadata": {},
   "outputs": [
    {
     "name": "stdout",
     "output_type": "stream",
     "text": [
      "TO BE OR NOT TO BE\n",
      "to be or not to be\n",
      "To be or not to be\n",
      "To Be Or Not To Be\n",
      "to me or not to me\n",
      "3\n"
     ]
    }
   ],
   "source": [
    "s = \"to be or not to be\"\n",
    "\n",
    "print(s.upper())\n",
    "print(s.lower())\n",
    "print(s.capitalize())\n",
    "print(s.title())\n",
    "print(s.replace('be', 'me')) # We are creating a new string but we never modify the original one\n",
    "print(s.find('b'))"
   ]
  },
  {
   "cell_type": "code",
   "execution_count": 62,
   "id": "e4b061c3-71ce-495d-803b-c4f097985bea",
   "metadata": {},
   "outputs": [
    {
     "name": "stdout",
     "output_type": "stream",
     "text": [
      "True\n"
     ]
    }
   ],
   "source": [
    "b1 = True\n",
    "b2 = False\n",
    "\n",
    "name = 'Aryan'\n",
    "is_cool = False\n",
    "\n",
    "if not is_cool:\n",
    "    is_cool = not is_cool\n",
    "\n",
    "print(is_cool)"
   ]
  },
  {
   "cell_type": "code",
   "execution_count": 64,
   "id": "0d3416f9-ef68-4447-8403-1ab1eccae9e9",
   "metadata": {},
   "outputs": [
    {
     "name": "stdin",
     "output_type": "stream",
     "text": [
      "What year were you born? 2003\n"
     ]
    },
    {
     "name": "stdout",
     "output_type": "stream",
     "text": [
      "Your age is 21\n"
     ]
    }
   ],
   "source": [
    "from datetime import datetime\n",
    "\n",
    "birth_year = int(input(\"What year were you born?\"))\n",
    "print(f\"Your age is {(datetime.now().year) - birth_year}\")"
   ]
  },
  {
   "cell_type": "code",
   "execution_count": 68,
   "id": "2bb16e17-649d-4799-9906-8f44f296973b",
   "metadata": {},
   "outputs": [
    {
     "name": "stdout",
     "output_type": "stream",
     "text": [
      "['New Item', 'Item 2', 'Item 3']\n",
      "['Item 1', 'Item 2', 'Item 3']\n"
     ]
    }
   ],
   "source": [
    "amazon_cart = [\n",
    "    \"Item 1\",\n",
    "    \"Item 2\",\n",
    "    \"Item 3\"\n",
    "]\n",
    "\n",
    "new_cart = amazon_cart.copy() # The .copy() will make a shallow copy because it makes a deep copy by default\n",
    "new_cart = amazon_cart[:] # This syntax also makes a shallow copy\n",
    "new_cart[0] = \"New Item\"\n",
    "\n",
    "print(new_cart)\n",
    "print(amazon_cart)"
   ]
  },
  {
   "cell_type": "code",
   "execution_count": 73,
   "id": "f3f976c0-b2f9-484d-bdd6-9ef4ba095ef3",
   "metadata": {},
   "outputs": [
    {
     "name": "stdout",
     "output_type": "stream",
     "text": [
      "['Hello', [1, 2, 3], 'Bye']\n",
      "['Hello There!!', [1, 5, 3], 'Bye']\n"
     ]
    }
   ],
   "source": [
    "import copy\n",
    "\n",
    "test_arr = [\n",
    "    \"Hello\",\n",
    "    [1, 2, 3],\n",
    "    'Bye'\n",
    "]\n",
    "\n",
    "new_arr = test_arr.copy() # Does not shallow copy the objects in the list\n",
    "new_arr = test_arr[:]\n",
    "new_arr = copy.deepcopy(test_arr) # Creates a deep copy\n",
    "new_arr[0] = \"Hello There!!\"\n",
    "new_arr[1][1] = 5\n",
    "\n",
    "print(test_arr)\n",
    "print(new_arr)"
   ]
  },
  {
   "cell_type": "markdown",
   "id": "18db0d9f-b911-4fed-9026-2731c7a795a0",
   "metadata": {},
   "source": [
    "1. **Shallow Copy:** Creates a new object, but inserts references to the objects found in the original. If the original contains nested objects (like a list of lists), the shallow copy will still reference those nested objects, meaning changes to them in the copied list will affect the original list.\n",
    "\n",
    "2. **Deep Copy:** Creates a new object, and recursively copies all objects found within the original. This includes copying any nested objects. Thus, changes made to the deep copy do not affect the original object at all."
   ]
  },
  {
   "cell_type": "code",
   "execution_count": 74,
   "id": "aa6877c1-1d6c-4b2e-b3fc-d5bd09ac5386",
   "metadata": {},
   "outputs": [
    {
     "data": {
      "text/plain": [
       "2"
      ]
     },
     "execution_count": 74,
     "metadata": {},
     "output_type": "execute_result"
    }
   ],
   "source": [
    "matrix = [\n",
    "    [1, 2, 3],\n",
    "    [4, 5, 6],\n",
    "    [7, 8, 9]\n",
    "]\n",
    "\n",
    "matrix[0][1]"
   ]
  },
  {
   "cell_type": "code",
   "execution_count": 88,
   "id": "8c0e9699-ca75-47ec-b0e7-be2726e5a9b5",
   "metadata": {},
   "outputs": [
    {
     "name": "stdout",
     "output_type": "stream",
     "text": [
      "5\n",
      "[]\n"
     ]
    }
   ],
   "source": [
    "basket = [1, 2, 3, 4, 5]\n",
    "print(len(basket))\n",
    "\n",
    "basket.append(100)\n",
    "basket.append(100)\n",
    "basket.extend([6, 7])\n",
    "basket.insert(5, 10)\n",
    "basket.remove(100) # Remove allows you to remove a value. Only the first occurence\n",
    "basket.pop(5) # Remove using an index. This also returns the element that you remove\n",
    "basket.clear() # Removes everything. Does not return anything\n",
    "print(basket)"
   ]
  },
  {
   "cell_type": "code",
   "execution_count": 90,
   "id": "9110b979-f574-4a1b-bff6-c8beae819f95",
   "metadata": {},
   "outputs": [
    {
     "name": "stdout",
     "output_type": "stream",
     "text": [
      "0\n"
     ]
    }
   ],
   "source": [
    "basket = ['a', 'b', 'c', 'd']\n",
    "print(basket.index('a')) # Gives you the index of the element"
   ]
  },
  {
   "cell_type": "code",
   "execution_count": 93,
   "id": "06cec38d-d90a-4200-99ce-d1dafdd72a60",
   "metadata": {},
   "outputs": [
    {
     "name": "stdout",
     "output_type": "stream",
     "text": [
      "True\n",
      "False\n",
      "False\n"
     ]
    }
   ],
   "source": [
    "print('a' in basket)\n",
    "print('a' not in basket)\n",
    "print('x' in basket)"
   ]
  },
  {
   "cell_type": "code",
   "execution_count": 95,
   "id": "a66f01e3-c66d-46eb-a043-212e7c10e5fa",
   "metadata": {},
   "outputs": [
    {
     "name": "stdout",
     "output_type": "stream",
     "text": [
      "3\n"
     ]
    }
   ],
   "source": [
    "basket.append('b')\n",
    "print(basket.count('b')) # Counts the number of times an element occurs"
   ]
  },
  {
   "cell_type": "code",
   "execution_count": 100,
   "id": "37b519d4-204e-48bf-a07c-d7e740444ca8",
   "metadata": {},
   "outputs": [
    {
     "name": "stdout",
     "output_type": "stream",
     "text": [
      "['a', 'b', 'b', 'b', 'c', 'd']\n",
      "['d', 'c', 'b', 'b', 'b', 'a']\n"
     ]
    }
   ],
   "source": [
    "basket.sort() # Sorts the list using Timesort (O(nlogn))\n",
    "# If you use sorted() it will create a new one instead of sorting in place and will return the sorted list\n",
    "print(basket)\n",
    "basket.sort(reverse=True)\n",
    "print(basket)"
   ]
  },
  {
   "cell_type": "code",
   "execution_count": 101,
   "id": "75f6c569-e62b-47b1-bf5f-d5b3d1ae6120",
   "metadata": {},
   "outputs": [
    {
     "name": "stdout",
     "output_type": "stream",
     "text": [
      "['a', 'b', 'b', 'b', 'c', 'd']\n"
     ]
    }
   ],
   "source": [
    "basket.reverse()\n",
    "print(basket)"
   ]
  },
  {
   "cell_type": "code",
   "execution_count": 103,
   "id": "93aff075-b16c-4ffb-9127-63ae6d023917",
   "metadata": {},
   "outputs": [
    {
     "name": "stdout",
     "output_type": "stream",
     "text": [
      "[0, 1, 2, 3, 4, 5, 6, 7, 8, 9, 10, 11, 12, 13, 14, 15, 16, 17, 18, 19, 20, 21, 22, 23, 24, 25, 26, 27, 28, 29, 30, 31, 32, 33, 34, 35, 36, 37, 38, 39, 40, 41, 42, 43, 44, 45, 46, 47, 48, 49, 50, 51, 52, 53, 54, 55, 56, 57, 58, 59, 60, 61, 62, 63, 64, 65, 66, 67, 68, 69, 70, 71, 72, 73, 74, 75, 76, 77, 78, 79, 80, 81, 82, 83, 84, 85, 86, 87, 88, 89, 90, 91, 92, 93, 94, 95, 96, 97, 98, 99, 100]\n",
      "range(0, 101)\n"
     ]
    }
   ],
   "source": [
    "print(list(range(101))) # Generate a list really quickly\n",
    "print(range(101))"
   ]
  },
  {
   "cell_type": "code",
   "execution_count": 106,
   "id": "a4495f75-4460-4df2-bc10-b965f382569c",
   "metadata": {},
   "outputs": [
    {
     "name": "stdout",
     "output_type": "stream",
     "text": [
      "hi there!\n"
     ]
    }
   ],
   "source": [
    "separator = ' '\n",
    "new_sentence = separator.join([\"hi\", \"there!\"])\n",
    "print(new_sentence)"
   ]
  },
  {
   "cell_type": "code",
   "execution_count": 112,
   "id": "c4ec7e12-d51d-4745-90e8-157c050f55aa",
   "metadata": {},
   "outputs": [
    {
     "name": "stdout",
     "output_type": "stream",
     "text": [
      "1 2 3 [4, 5, 6, 7, 8, 9]\n"
     ]
    }
   ],
   "source": [
    "a, b, c, *other = [1, 2, 3, 4, 5, 6, 7, 8, 9] # List unpacking\n",
    "print(a, b, c, other)"
   ]
  },
  {
   "cell_type": "code",
   "execution_count": 123,
   "id": "01c5eec9-89b2-417e-94e8-590896fd5adf",
   "metadata": {},
   "outputs": [
    {
     "name": "stdout",
     "output_type": "stream",
     "text": [
      "[1, 2]\n",
      "['a', 'b']\n",
      "[('a', 1), ('b', 2)]\n",
      "2\n"
     ]
    }
   ],
   "source": [
    "dictionary = {\n",
    "    \"a\": 1,\n",
    "    \"b\": 2\n",
    "}\n",
    "# All keys need to be immutable\n",
    "print(list(dictionary.values()))\n",
    "print(list(dictionary.keys()))\n",
    "print(list(dictionary.items()))\n",
    "print(dictionary[\"b\"])"
   ]
  },
  {
   "cell_type": "code",
   "execution_count": 125,
   "id": "eb573104-5064-43ce-8da6-11be6df6583a",
   "metadata": {},
   "outputs": [],
   "source": [
    "d = {\n",
    "    123: [1, 2, 3],\n",
    "    True: \"hello\",\n",
    "    (100): True\n",
    "}\n"
   ]
  },
  {
   "cell_type": "code",
   "execution_count": 126,
   "id": "5f5d6d01-a523-4e50-86b1-6fd1151e5506",
   "metadata": {},
   "outputs": [
    {
     "name": "stdout",
     "output_type": "stream",
     "text": [
      "True\n"
     ]
    }
   ],
   "source": [
    "print(d[(100)])"
   ]
  },
  {
   "cell_type": "code",
   "execution_count": 141,
   "id": "06525dbc-ae2d-4938-9603-1cfe7961052f",
   "metadata": {},
   "outputs": [
    {
     "name": "stdout",
     "output_type": "stream",
     "text": [
      "None\n",
      "55\n"
     ]
    }
   ],
   "source": [
    "user = {\n",
    "    \"basket\": [1, 2, 3],\n",
    "    \"greet\": \"hello\"\n",
    "}\n",
    "\n",
    "# print(user['age']) # Throws an error if no age\n",
    "print(user.get('age')) # Returns None if no age\n",
    "print(user.get('age', 55)) # Returns default value if no age\n"
   ]
  },
  {
   "cell_type": "code",
   "execution_count": 142,
   "id": "26c7a87f-0b98-462a-a3f9-5c807893bffd",
   "metadata": {},
   "outputs": [
    {
     "data": {
      "text/plain": [
       "{'name': 'Johnny'}"
      ]
     },
     "execution_count": 142,
     "metadata": {},
     "output_type": "execute_result"
    }
   ],
   "source": [
    "user2 = dict(name = \"Johnny\")\n",
    "user2"
   ]
  },
  {
   "cell_type": "code",
   "execution_count": 143,
   "id": "1f3d740a-8a24-4c9e-a244-fa5ff066de44",
   "metadata": {},
   "outputs": [
    {
     "data": {
      "text/plain": [
       "{}"
      ]
     },
     "execution_count": 143,
     "metadata": {},
     "output_type": "execute_result"
    }
   ],
   "source": [
    "user2.clear()\n",
    "user2"
   ]
  },
  {
   "cell_type": "code",
   "execution_count": 144,
   "id": "cc63c946-8bef-446c-a26c-af4baa03e90c",
   "metadata": {},
   "outputs": [
    {
     "name": "stdout",
     "output_type": "stream",
     "text": [
      "hello\n",
      "('basket', [1, 2, 3])\n"
     ]
    },
    {
     "data": {
      "text/plain": [
       "{'age': 22}"
      ]
     },
     "execution_count": 144,
     "metadata": {},
     "output_type": "execute_result"
    }
   ],
   "source": [
    "print(user.pop(\"greet\"))\n",
    "print(user.popitem()) # Random removal\n",
    "user.update({\"age\": 22})\n",
    "user"
   ]
  },
  {
   "cell_type": "code",
   "execution_count": 145,
   "id": "abd29379-9808-4649-aac9-1f5281b250f8",
   "metadata": {},
   "outputs": [
    {
     "name": "stdout",
     "output_type": "stream",
     "text": [
      "1\n",
      "4\n",
      "5\n"
     ]
    }
   ],
   "source": [
    "# Tuple is immutable\n",
    "my_tuple = (1, 2, 3, 4, 5)\n",
    "# You can use slicing, unpacking etc. just like you did with lists\n",
    "print(my_tuple.count(5))\n",
    "print(my_tuple.index(5))\n",
    "print(len(my_tuple))"
   ]
  },
  {
   "cell_type": "markdown",
   "id": "8b2c6fa6-b3f6-4416-bfb9-8ecf2dfcd96a",
   "metadata": {},
   "source": [
    "# Error Handling\n",
    "\n",
    "Some examples of errors in Python:\n",
    "\n",
    "- SyntaxError\n",
    "- NameError\n",
    "- TypeError\n",
    "- IndexError\n",
    "- KeyError\n",
    "- ZeroDivisionError"
   ]
  },
  {
   "cell_type": "code",
   "execution_count": 161,
   "id": "49ae3cf9-a16f-4864-bb6f-63edb85d54b2",
   "metadata": {},
   "outputs": [
    {
     "name": "stdin",
     "output_type": "stream",
     "text": [
      "What is your age?  12\n"
     ]
    },
    {
     "name": "stdout",
     "output_type": "stream",
     "text": [
      "12\n",
      "Thank you!!\n",
      "I am finally done\n"
     ]
    }
   ],
   "source": [
    "while True:\n",
    "    try:\n",
    "        age = int(input(\"What is your age? \"))\n",
    "        print(age)\n",
    "    except Exception as E:\n",
    "        print(E)\n",
    "    else:\n",
    "        print(\"Thank you!!\")\n",
    "        break\n",
    "    finally:\n",
    "        print(\"I am finally done\")"
   ]
  },
  {
   "cell_type": "code",
   "execution_count": 165,
   "id": "a7b7b513-6d17-4e7e-a98a-2177d7651375",
   "metadata": {},
   "outputs": [
    {
     "ename": "TypeError",
     "evalue": "Cut it out",
     "output_type": "error",
     "traceback": [
      "\u001b[0;31m---------------------------------------------------------------------------\u001b[0m",
      "\u001b[0;31mTypeError\u001b[0m                                 Traceback (most recent call last)",
      "Cell \u001b[0;32mIn[165], line 12\u001b[0m, in \u001b[0;36msum\u001b[0;34m(num1, num2)\u001b[0m\n\u001b[1;32m     11\u001b[0m \u001b[38;5;28;01mtry\u001b[39;00m:\n\u001b[0;32m---> 12\u001b[0m     \u001b[38;5;28;01mreturn\u001b[39;00m num1 \u001b[38;5;241m+\u001b[39m num2\n\u001b[1;32m     14\u001b[0m \u001b[38;5;28;01mexcept\u001b[39;00m \u001b[38;5;167;01mTypeError\u001b[39;00m:\n",
      "\u001b[0;31mTypeError\u001b[0m: can only concatenate str (not \"int\") to str",
      "\nDuring handling of the above exception, another exception occurred:\n",
      "\u001b[0;31mTypeError\u001b[0m                                 Traceback (most recent call last)",
      "Cell \u001b[0;32mIn[165], line 21\u001b[0m\n\u001b[1;32m     18\u001b[0m         \u001b[38;5;28mprint\u001b[39m(\u001b[38;5;124mf\u001b[39m\u001b[38;5;124m\"\u001b[39m\u001b[38;5;124mError type: \u001b[39m\u001b[38;5;132;01m{\u001b[39;00m\u001b[38;5;28mtype\u001b[39m(e)\u001b[38;5;241m.\u001b[39m\u001b[38;5;18m__name__\u001b[39m\u001b[38;5;132;01m}\u001b[39;00m\u001b[38;5;124m\"\u001b[39m)\n\u001b[1;32m     19\u001b[0m         \u001b[38;5;28mprint\u001b[39m(\u001b[38;5;124mf\u001b[39m\u001b[38;5;124m\"\u001b[39m\u001b[38;5;124mError message: \u001b[39m\u001b[38;5;132;01m{\u001b[39;00me\u001b[38;5;132;01m}\u001b[39;00m\u001b[38;5;124m\"\u001b[39m)\n\u001b[0;32m---> 21\u001b[0m \u001b[38;5;28mprint\u001b[39m(\u001b[38;5;28msum\u001b[39m(\u001b[38;5;124m'\u001b[39m\u001b[38;5;124m1\u001b[39m\u001b[38;5;124m'\u001b[39m, \u001b[38;5;241m2\u001b[39m))\n",
      "Cell \u001b[0;32mIn[165], line 15\u001b[0m, in \u001b[0;36msum\u001b[0;34m(num1, num2)\u001b[0m\n\u001b[1;32m     12\u001b[0m     \u001b[38;5;28;01mreturn\u001b[39;00m num1 \u001b[38;5;241m+\u001b[39m num2\n\u001b[1;32m     14\u001b[0m \u001b[38;5;28;01mexcept\u001b[39;00m \u001b[38;5;167;01mTypeError\u001b[39;00m:\n\u001b[0;32m---> 15\u001b[0m     \u001b[38;5;28;01mraise\u001b[39;00m \u001b[38;5;167;01mTypeError\u001b[39;00m(\u001b[38;5;124m\"\u001b[39m\u001b[38;5;124mCut it out\u001b[39m\u001b[38;5;124m\"\u001b[39m)  \u001b[38;5;66;03m# Re-raise the ValueError so it's not caught by the generic except block.\u001b[39;00m\n\u001b[1;32m     17\u001b[0m \u001b[38;5;28;01mexcept\u001b[39;00m \u001b[38;5;167;01mException\u001b[39;00m \u001b[38;5;28;01mas\u001b[39;00m e:\n\u001b[1;32m     18\u001b[0m     \u001b[38;5;28mprint\u001b[39m(\u001b[38;5;124mf\u001b[39m\u001b[38;5;124m\"\u001b[39m\u001b[38;5;124mError type: \u001b[39m\u001b[38;5;132;01m{\u001b[39;00m\u001b[38;5;28mtype\u001b[39m(e)\u001b[38;5;241m.\u001b[39m\u001b[38;5;18m__name__\u001b[39m\u001b[38;5;132;01m}\u001b[39;00m\u001b[38;5;124m\"\u001b[39m)\n",
      "\u001b[0;31mTypeError\u001b[0m: Cut it out"
     ]
    }
   ],
   "source": [
    "def sum(num1, num2):\n",
    "    try:\n",
    "        return num1 + num2\n",
    "        raise ValueError(\"Cut it out\")\n",
    "        \n",
    "    except Exception as E: # Can also use except (ValueError, TypeError) as e:\n",
    "        print(f\"Error type: {type(E).__name__}\")\n",
    "        print(f\"Error message: {E}\")\n",
    "\n",
    "def sum(num1, num2):\n",
    "    try:\n",
    "        return num1 + num2\n",
    "        \n",
    "    except TypeError:\n",
    "        raise TypeError(\"Cut it out\")  # Re-raise the ValueError so it's not caught by the generic except block.\n",
    "    \n",
    "    except Exception as e:\n",
    "        print(f\"Error type: {type(e).__name__}\")\n",
    "        print(f\"Error message: {e}\")\n",
    "\n",
    "print(sum('1', 2))"
   ]
  },
  {
   "cell_type": "code",
   "execution_count": 170,
   "id": "2cd80805-143c-4d95-a6a5-415e2beb20ca",
   "metadata": {},
   "outputs": [
    {
     "name": "stdout",
     "output_type": "stream",
     "text": [
      "{1, 2, 3, 4, 5, 100}\n",
      "{1, 2, 3, 4, 5}\n"
     ]
    }
   ],
   "source": [
    "# Using sets in python\n",
    "myset = {1, 2, 3, 4, 5, 5, 5} # Set is unordered unlike an array\n",
    "myset.add(100)\n",
    "myset.add(1)\n",
    "print(myset)\n",
    "\n",
    "mylist = [1, 2, 3, 4, 5]\n",
    "print(set(mylist))"
   ]
  },
  {
   "cell_type": "code",
   "execution_count": 185,
   "id": "2a266917-6f4b-4d7e-8565-2d1f825004e6",
   "metadata": {},
   "outputs": [
    {
     "name": "stdout",
     "output_type": "stream",
     "text": [
      "{1, 2, 3}\n",
      "None\n",
      "{1, 2, 3, 4}\n",
      "None\n",
      "{1, 2, 3}\n",
      "{4, 5}\n",
      "{4, 5}\n",
      "False\n",
      "{1, 2, 3, 4, 5, 6, 7, 8, 9, 10}\n",
      "{1, 2, 3, 4, 5, 6, 7, 8, 9, 10}\n",
      "False\n",
      "False\n"
     ]
    }
   ],
   "source": [
    "my_set = {1, 2, 3, 4, 5}\n",
    "your_set = {4, 5, 6, 7, 8, 9, 10}\n",
    "\n",
    "print(my_set.difference(your_set))\n",
    "print(my_set.discard(5))\n",
    "print(my_set)\n",
    "print(my_set.difference_update(your_set))\n",
    "print(my_set)\n",
    "my_set = {1, 2, 3, 4, 5}\n",
    "print(my_set.intersection(your_set))\n",
    "print(my_set & your_set) # Intersection syntax\n",
    "print(my_set.isdisjoint(your_set))\n",
    "print(my_set.union(your_set))\n",
    "print(my_set | your_set) # Union Syntax\n",
    "print(my_set.issubset(your_set))\n",
    "print(my_set.issuperset(your_set))"
   ]
  },
  {
   "cell_type": "markdown",
   "id": "00116123-180d-4a41-ab72-ddf3e09bd1b1",
   "metadata": {},
   "source": [
    "## Conditional Logic and loops"
   ]
  },
  {
   "cell_type": "code",
   "execution_count": 7,
   "id": "1cdb1c7c-cb57-4e65-9544-cdb0639f0671",
   "metadata": {},
   "outputs": [
    {
     "name": "stdout",
     "output_type": "stream",
     "text": [
      "You are old enough to drive\n",
      "okokok\n"
     ]
    }
   ],
   "source": [
    "is_old = True\n",
    "is_licensed = True\n",
    "\n",
    "if is_old and is_licensed:\n",
    "    print(\"You are old enough to drive\")\n",
    "elif is_licensed:\n",
    "    print(\"You can drive now\")\n",
    "else:\n",
    "    print(\"Checkcheck\")\n",
    "\n",
    "print(\"okokok\")"
   ]
  },
  {
   "cell_type": "code",
   "execution_count": 8,
   "id": "54842272-2865-4098-8c6e-59ea9c1179c4",
   "metadata": {},
   "outputs": [],
   "source": [
    "# Truthy: If the value is converted to bool, its True\n",
    "# Falsy: If the value is converted to bool, its False"
   ]
  },
  {
   "cell_type": "code",
   "execution_count": 11,
   "id": "ede91366-b984-493e-9f62-f2b870da4cd2",
   "metadata": {},
   "outputs": [
    {
     "name": "stdout",
     "output_type": "stream",
     "text": [
      "cannot message\n"
     ]
    }
   ],
   "source": [
    "# Ternary Operator / Conditional Expression\n",
    "# condition_if_true if condition else condition_if_else\n",
    "\n",
    "is_friend = False\n",
    "can_message = \"can message\" if is_friend else \"cannot message\"\n",
    "print(can_message)"
   ]
  },
  {
   "cell_type": "code",
   "execution_count": 13,
   "id": "df5e2979-466b-40d6-b604-8dc566fb52ee",
   "metadata": {},
   "outputs": [],
   "source": [
    "# OR is more performant than AND as it only evaluates some expressions\n",
    "# AND can also short circuit like OR does"
   ]
  },
  {
   "cell_type": "code",
   "execution_count": 14,
   "id": "619375f8-1a7f-4f14-bd20-4d413ce5ebd9",
   "metadata": {},
   "outputs": [],
   "source": [
    "# Logical operators\n",
    "# and, or, not >, <, ==, >=, <="
   ]
  },
  {
   "cell_type": "code",
   "execution_count": 17,
   "id": "063f69d9-65d9-4103-81ed-ab267eec5233",
   "metadata": {},
   "outputs": [
    {
     "name": "stdout",
     "output_type": "stream",
     "text": [
      "True\n",
      "False\n",
      "False\n",
      "True\n",
      "True\n",
      "===========\n",
      "False\n",
      "False\n",
      "False\n",
      "False\n",
      "False\n"
     ]
    },
    {
     "name": "stderr",
     "output_type": "stream",
     "text": [
      "<>:7: SyntaxWarning: \"is\" with 'int' literal. Did you mean \"==\"?\n",
      "<>:8: SyntaxWarning: \"is\" with 'str' literal. Did you mean \"==\"?\n",
      "<>:9: SyntaxWarning: \"is\" with 'int' literal. Did you mean \"==\"?\n",
      "<>:10: SyntaxWarning: \"is\" with 'int' literal. Did you mean \"==\"?\n",
      "<>:7: SyntaxWarning: \"is\" with 'int' literal. Did you mean \"==\"?\n",
      "<>:8: SyntaxWarning: \"is\" with 'str' literal. Did you mean \"==\"?\n",
      "<>:9: SyntaxWarning: \"is\" with 'int' literal. Did you mean \"==\"?\n",
      "<>:10: SyntaxWarning: \"is\" with 'int' literal. Did you mean \"==\"?\n",
      "/var/folders/wy/qdqvb7ws1m3fvz19mck88b8h0000gn/T/ipykernel_2152/3310575342.py:7: SyntaxWarning: \"is\" with 'int' literal. Did you mean \"==\"?\n",
      "  print(True is 1)\n",
      "/var/folders/wy/qdqvb7ws1m3fvz19mck88b8h0000gn/T/ipykernel_2152/3310575342.py:8: SyntaxWarning: \"is\" with 'str' literal. Did you mean \"==\"?\n",
      "  print('' is 1)\n",
      "/var/folders/wy/qdqvb7ws1m3fvz19mck88b8h0000gn/T/ipykernel_2152/3310575342.py:9: SyntaxWarning: \"is\" with 'int' literal. Did you mean \"==\"?\n",
      "  print([] is 1)\n",
      "/var/folders/wy/qdqvb7ws1m3fvz19mck88b8h0000gn/T/ipykernel_2152/3310575342.py:10: SyntaxWarning: \"is\" with 'int' literal. Did you mean \"==\"?\n",
      "  print(10 is 10.0)\n"
     ]
    },
    {
     "data": {
      "text/plain": [
       "'\\n= checks for the equality in value\\nis checks if the location in memory where the value is stored the same\\n'"
      ]
     },
     "execution_count": 17,
     "metadata": {},
     "output_type": "execute_result"
    }
   ],
   "source": [
    "print(True == 1)\n",
    "print('' == 1)\n",
    "print([] == 1)\n",
    "print(10 == 10.0)\n",
    "print([] == [])\n",
    "print(\"===========\")\n",
    "print(True is 1)\n",
    "print('' is 1)\n",
    "print([] is 1)\n",
    "print(10 is 10.0)\n",
    "print([] is [])\n",
    "\n",
    "\"\"\"\n",
    "= checks for the equality in value\n",
    "is checks if the location in memory where the value is stored the same\n",
    "\"\"\""
   ]
  },
  {
   "cell_type": "code",
   "execution_count": 18,
   "id": "747cc32c-a26f-4996-9d2e-55398c4a803a",
   "metadata": {},
   "outputs": [
    {
     "name": "stdout",
     "output_type": "stream",
     "text": [
      "H\n",
      "e\n",
      "l\n",
      "l\n",
      "o\n"
     ]
    }
   ],
   "source": [
    "for item in \"Hello\":\n",
    "    print(item)"
   ]
  },
  {
   "cell_type": "code",
   "execution_count": 19,
   "id": "304016c1-2a12-4c03-97a1-8f477ec4d630",
   "metadata": {},
   "outputs": [
    {
     "data": {
      "text/plain": [
       "'o'"
      ]
     },
     "execution_count": 19,
     "metadata": {},
     "output_type": "execute_result"
    }
   ],
   "source": [
    "item"
   ]
  },
  {
   "cell_type": "code",
   "execution_count": 21,
   "id": "0bb96d0d-1273-40d0-9a8b-1e0753902765",
   "metadata": {},
   "outputs": [],
   "source": [
    "users = {\n",
    "    \"name\": \"Golem\",\n",
    "    \"age\": 5006,\n",
    "    \"can_swim\": False\n",
    "}"
   ]
  },
  {
   "cell_type": "code",
   "execution_count": 22,
   "id": "d57f8fca-7044-42d2-9338-d5207d2ec432",
   "metadata": {},
   "outputs": [
    {
     "data": {
      "text/plain": [
       "dict_items([('name', 'Golem'), ('age', 5006), ('can_swim', False)])"
      ]
     },
     "execution_count": 22,
     "metadata": {},
     "output_type": "execute_result"
    }
   ],
   "source": [
    "users.items()"
   ]
  },
  {
   "cell_type": "code",
   "execution_count": 23,
   "id": "26195685-9dcb-48b5-b209-e990706fb498",
   "metadata": {},
   "outputs": [
    {
     "data": {
      "text/plain": [
       "dict_keys(['name', 'age', 'can_swim'])"
      ]
     },
     "execution_count": 23,
     "metadata": {},
     "output_type": "execute_result"
    }
   ],
   "source": [
    "users.keys()"
   ]
  },
  {
   "cell_type": "code",
   "execution_count": 25,
   "id": "b9a285a4-b966-4281-a7a0-1282ed5f76d7",
   "metadata": {},
   "outputs": [
    {
     "data": {
      "text/plain": [
       "dict_values(['Golem', 5006, False])"
      ]
     },
     "execution_count": 25,
     "metadata": {},
     "output_type": "execute_result"
    }
   ],
   "source": [
    "users.values()"
   ]
  },
  {
   "cell_type": "code",
   "execution_count": 26,
   "id": "e17e48b6-8287-40a5-9114-77277ac0bdb5",
   "metadata": {},
   "outputs": [
    {
     "data": {
      "text/plain": [
       "{'name': 'Golem', 'age': 5006, 'can_swim': False}"
      ]
     },
     "execution_count": 26,
     "metadata": {},
     "output_type": "execute_result"
    }
   ],
   "source": [
    "users"
   ]
  },
  {
   "cell_type": "code",
   "execution_count": 27,
   "id": "a520cbba-723b-4387-b730-41cbbbbbdd57",
   "metadata": {},
   "outputs": [
    {
     "name": "stdout",
     "output_type": "stream",
     "text": [
      "name\n",
      "age\n",
      "can_swim\n"
     ]
    }
   ],
   "source": [
    "for item in users:\n",
    "    print(item)"
   ]
  },
  {
   "cell_type": "code",
   "execution_count": 28,
   "id": "714c254a-5662-4c24-b763-63a1a7a10f8c",
   "metadata": {},
   "outputs": [
    {
     "name": "stdout",
     "output_type": "stream",
     "text": [
      "name Golem\n",
      "age 5006\n",
      "can_swim False\n"
     ]
    }
   ],
   "source": [
    "for k, v in users.items():\n",
    "    print(k , v)"
   ]
  },
  {
   "cell_type": "code",
   "execution_count": 30,
   "id": "f2570c91-5b62-4060-ae0a-3cefe5af5e30",
   "metadata": {},
   "outputs": [
    {
     "name": "stdout",
     "output_type": "stream",
     "text": [
      "0\n",
      "1\n",
      "2\n",
      "3\n",
      "4\n"
     ]
    }
   ],
   "source": [
    "# Python programmers use _ instead of the variable if they want to indicate that they dont really need the variable\n",
    "for item in range(5):\n",
    "    print(item)"
   ]
  },
  {
   "cell_type": "code",
   "execution_count": 31,
   "id": "8f43f8ed-42ad-4225-8a54-066e6ea648e1",
   "metadata": {},
   "outputs": [
    {
     "name": "stdout",
     "output_type": "stream",
     "text": [
      "0 H\n",
      "1 e\n",
      "2 l\n",
      "3 l\n",
      "4 o\n",
      "5 o\n",
      "6 o\n",
      "(0, 'H')\n",
      "(1, 'e')\n",
      "(2, 'l')\n",
      "(3, 'l')\n",
      "(4, 'o')\n",
      "(5, 'o')\n",
      "(6, 'o')\n"
     ]
    }
   ],
   "source": [
    "for i, char in enumerate('Hellooo'):\n",
    "    print(i, char)\n",
    "\n",
    "for item in enumerate('Hellooo'):\n",
    "    print(item)"
   ]
  },
  {
   "cell_type": "code",
   "execution_count": 5,
   "id": "b19df000-4852-4c8b-b896-b1dcb0f7a78c",
   "metadata": {},
   "outputs": [
    {
     "name": "stdout",
     "output_type": "stream",
     "text": [
      "0\n"
     ]
    }
   ],
   "source": [
    "i = 0 \n",
    "while i < 5:\n",
    "    print(i)\n",
    "    i += 1\n",
    "    break\n",
    "else: # Executed only if there is any break in the while loop\n",
    "    print(\"Done with it\")"
   ]
  },
  {
   "cell_type": "code",
   "execution_count": 6,
   "id": "0e2169b8-4744-4c0e-ae6c-9dcbcfadff90",
   "metadata": {},
   "outputs": [],
   "source": [
    "# break just breaks out of the loop\n",
    "# continue get back to the top of the loop\n",
    "# pass just passes to the next line"
   ]
  },
  {
   "cell_type": "markdown",
   "id": "2bb9723d-9a1a-4c02-a770-b788597d40f9",
   "metadata": {},
   "source": [
    "# Functions in Python"
   ]
  },
  {
   "cell_type": "code",
   "execution_count": 11,
   "id": "2852c92f-c081-40da-b102-1ca43e9a1a9d",
   "metadata": {},
   "outputs": [
    {
     "name": "stdout",
     "output_type": "stream",
     "text": [
      "Hello\n"
     ]
    }
   ],
   "source": [
    "def say_hello():\n",
    "    print(\"Hello\")\n",
    "\n",
    "say_hello()"
   ]
  },
  {
   "cell_type": "code",
   "execution_count": 19,
   "id": "a5d801cc-9613-4b0e-b947-e617edd5f466",
   "metadata": {},
   "outputs": [
    {
     "name": "stdout",
     "output_type": "stream",
     "text": [
      "Hello Aryan 👋\n"
     ]
    }
   ],
   "source": [
    "\"\"\"\n",
    "Parameters: Given in the function definition\n",
    "Arguments: Given in the function call or while invoking the function\n",
    "\"\"\"\n",
    "\n",
    "def say_hello(name = \"ABC\", emoji = \"😀\"): # Default Parameters\n",
    "    print(f\"Hello {name} {emoji}\")\n",
    "\n",
    "say_hello(\"Aryan\", \"👋\") # Positional Arguments"
   ]
  },
  {
   "cell_type": "code",
   "execution_count": 20,
   "id": "e25c078c-265f-4158-9dd4-960dc6f565ff",
   "metadata": {},
   "outputs": [
    {
     "name": "stdout",
     "output_type": "stream",
     "text": [
      "Hello XYZ 😊\n"
     ]
    }
   ],
   "source": [
    "say_hello(emoji=\"😊\", name=\"XYZ\")"
   ]
  },
  {
   "cell_type": "code",
   "execution_count": 21,
   "id": "a62a9c2c-8f71-4fd0-b309-fb93e4e36677",
   "metadata": {},
   "outputs": [
    {
     "name": "stdout",
     "output_type": "stream",
     "text": [
      "Hello ABC 😊\n"
     ]
    }
   ],
   "source": [
    "say_hello(emoji=\"😊\")"
   ]
  },
  {
   "cell_type": "code",
   "execution_count": 22,
   "id": "bfcf9ff3-b659-45b3-b1d1-6f9240ae9e4a",
   "metadata": {},
   "outputs": [
    {
     "name": "stdout",
     "output_type": "stream",
     "text": [
      "5\n"
     ]
    }
   ],
   "source": [
    "def sum(num1, num2):\n",
    "    def another_func(n1, n2):\n",
    "        return n1 + n2\n",
    "    return another_func(num1, num2)\n",
    "\n",
    "print(sum(2, 3))"
   ]
  },
  {
   "cell_type": "code",
   "execution_count": 24,
   "id": "0d3f8e05-4589-41c6-bcb1-7447d755caac",
   "metadata": {},
   "outputs": [
    {
     "name": "stdout",
     "output_type": "stream",
     "text": [
      "\n",
      "    @param: a\n",
      "    \n"
     ]
    }
   ],
   "source": [
    "# Methods vs Functions\n",
    "# Methods are owned by objects\n",
    "def test(a):\n",
    "    \"\"\"\n",
    "    @param: a\n",
    "    \"\"\"\n",
    "    print(a)\n",
    "\n",
    "print(test.__doc__)"
   ]
  },
  {
   "cell_type": "code",
   "execution_count": 48,
   "id": "f4dbec0e-82cd-4f1c-9495-4d1150c47d58",
   "metadata": {},
   "outputs": [
    {
     "name": "stdout",
     "output_type": "stream",
     "text": [
      "(1, 2, 3, 4, 5)\n",
      "{'num1': 5, 'num2': 10}\n"
     ]
    },
    {
     "data": {
      "text/plain": [
       "30"
      ]
     },
     "execution_count": 48,
     "metadata": {},
     "output_type": "execute_result"
    }
   ],
   "source": [
    "if sum in globals(): # Check if the function sum() is defined in the global scope\n",
    "    del sum\n",
    "    \n",
    "def super_func(*args, **kwargs):\n",
    "    print(args)\n",
    "    print(kwargs)\n",
    "    return sum(args) + sum(kwargs.values())\n",
    "\n",
    "# Rule: params, *args, default parameters, **kwargs\n",
    "super_func(1, 2, 3, 4, 5, num1=5, num2=10)"
   ]
  },
  {
   "cell_type": "code",
   "execution_count": 54,
   "id": "53d12bb8-96b8-48ef-b60e-208f98c0f66a",
   "metadata": {},
   "outputs": [
    {
     "name": "stdout",
     "output_type": "stream",
     "text": [
      "90\n"
     ]
    }
   ],
   "source": [
    "a = 10\n",
    "\n",
    "def confusion(): # Use dependency injection instead\n",
    "    global a\n",
    "    a = 90\n",
    "# use nonlocal keyword to jump up a scope. Usually not used\n",
    "confusion()\n",
    "print(a)"
   ]
  },
  {
   "cell_type": "code",
   "execution_count": null,
   "id": "5b3f86d6-cc23-4f3b-a6c3-544d751a25c9",
   "metadata": {},
   "outputs": [],
   "source": []
  }
 ],
 "metadata": {
  "kernelspec": {
   "display_name": "Python 3 (ipykernel)",
   "language": "python",
   "name": "python3"
  },
  "language_info": {
   "codemirror_mode": {
    "name": "ipython",
    "version": 3
   },
   "file_extension": ".py",
   "mimetype": "text/x-python",
   "name": "python",
   "nbconvert_exporter": "python",
   "pygments_lexer": "ipython3",
   "version": "3.12.4"
  }
 },
 "nbformat": 4,
 "nbformat_minor": 5
}
