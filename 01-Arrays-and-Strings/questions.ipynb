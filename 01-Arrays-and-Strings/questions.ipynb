{
 "cells": [
  {
   "cell_type": "markdown",
   "id": "d70935f3-205a-41d4-8563-22e5d3a4af88",
   "metadata": {},
   "source": [
    "# Leetcode Questions based on Arrays and Strings"
   ]
  },
  {
   "cell_type": "markdown",
   "id": "25d2b58e-bc63-452f-8c1a-5a1f8fa462b9",
   "metadata": {},
   "source": [
    "#### Q) Given a string s, return true if it is a palindrome, false otherwise."
   ]
  },
  {
   "cell_type": "code",
   "execution_count": 32,
   "id": "d6e019ae-d836-4d5b-9d08-2504292d6725",
   "metadata": {},
   "outputs": [
    {
     "name": "stdout",
     "output_type": "stream",
     "text": [
      "True\n",
      "False\n"
     ]
    }
   ],
   "source": [
    "s_palindrome = \"racecar\"\n",
    "s_not_palindrome = \"hello\"\n",
    "\n",
    "def is_palindrome(s: str) -> bool:\n",
    "    left = 0\n",
    "    right = len(s) - 1\n",
    "\n",
    "    while left < right:\n",
    "        if s[left] != s[right]:\n",
    "            return False\n",
    "        left += 1\n",
    "        right -=1\n",
    "\n",
    "    return True\n",
    "\n",
    "print(is_palindrome(s_palindrome))\n",
    "print(is_palindrome(s_not_palindrome))"
   ]
  },
  {
   "cell_type": "markdown",
   "id": "c056e8e2-4b49-415b-ada0-31117a7a87a8",
   "metadata": {},
   "source": [
    "#### Q) Given a sorted array of unique integers and a target integer, return true if there exists a pair of numbers that sum to target, false otherwise. This problem is similar to Two Sum. (In Two Sum, the input is not sorted).\n",
    "\n",
    "#### For example, given nums = [1, 2, 4, 6, 8, 9, 14, 15] and target = 13, return true because 4 + 9 = 13."
   ]
  },
  {
   "cell_type": "code",
   "execution_count": 33,
   "id": "c0f09645-7fc1-4b09-a505-42daa0014614",
   "metadata": {},
   "outputs": [
    {
     "name": "stdout",
     "output_type": "stream",
     "text": [
      "True\n",
      "False\n"
     ]
    }
   ],
   "source": [
    "from typing import List\n",
    "\n",
    "nums = [1, 2, 4, 6, 8, 9, 14, 15]\n",
    "target = 13\n",
    "nums2 = [1, 2, 3, 4]\n",
    "target2 = 1\n",
    "\n",
    "def is_number_sum_pair(nums: List, target: int) -> bool:\n",
    "    left, right = 0, len(nums) - 1\n",
    "\n",
    "    while left < right:\n",
    "        if nums[left] + nums[right] > target:\n",
    "            right -= 1\n",
    "        elif nums[left] + nums[right] < target:\n",
    "            left += 1\n",
    "        else:\n",
    "            return True\n",
    "\n",
    "    return False\n",
    "\n",
    "print(is_number_sum_pair(nums, target))\n",
    "print(is_number_sum_pair(nums2, target2))"
   ]
  },
  {
   "cell_type": "markdown",
   "id": "b190f4ab-20da-4d6c-93d7-9f98786eae7a",
   "metadata": {},
   "source": [
    "#### Q) Given two sorted integer arrays arr1 and arr2, return a new array that combines both of them and is also sorted."
   ]
  },
  {
   "cell_type": "code",
   "execution_count": 34,
   "id": "798877ee-3232-4762-8ad6-1ddbc61b073c",
   "metadata": {},
   "outputs": [
    {
     "name": "stdout",
     "output_type": "stream",
     "text": [
      "[1, 3, 4, 5, 6, 7, 20]\n"
     ]
    }
   ],
   "source": [
    "from typing import List\n",
    "\n",
    "nums1 = [1, 4, 7, 20]\n",
    "nums2 = [3, 5, 6]\n",
    "\n",
    "def combine_lists(nums1: List[int], nums2: List[int]) -> List[int]:\n",
    "    final_arr = []\n",
    "    nums1_ptr, nums2_ptr = 0, 0\n",
    "\n",
    "    while nums1_ptr < len(nums1) and nums2_ptr < len(nums2):\n",
    "        if nums1[nums1_ptr] <= nums2[nums2_ptr]:\n",
    "            final_arr.append(nums1[nums1_ptr])\n",
    "            nums1_ptr += 1\n",
    "        else:\n",
    "            final_arr.append(nums2[nums2_ptr])\n",
    "            nums2_ptr += 1\n",
    "\n",
    "    while nums1_ptr < len(nums1):\n",
    "        final_arr.append(nums1[nums1_ptr])\n",
    "        nums1_ptr += 1\n",
    "\n",
    "    while nums2_ptr < len(nums2):\n",
    "        final_arr.append(nums2[nums2_ptr])\n",
    "        nums2_ptr += 1\n",
    "\n",
    "    return final_arr\n",
    "\n",
    "print(combine_lists(nums1, nums2))"
   ]
  },
  {
   "cell_type": "markdown",
   "id": "6f19f219-f685-414f-938f-0b9d54b69b7b",
   "metadata": {},
   "source": [
    "#### Q) Given two strings s and t, return true if s is a subsequence of t, or false otherwise."
   ]
  },
  {
   "cell_type": "code",
   "execution_count": 35,
   "id": "ac193db4-00c3-4039-ab7b-3c4c0cfa880f",
   "metadata": {},
   "outputs": [
    {
     "name": "stdout",
     "output_type": "stream",
     "text": [
      "True\n"
     ]
    }
   ],
   "source": [
    "s = \"ace\"\n",
    "t = \"abcde\"\n",
    "\n",
    "def is_subsequence(s: str, t:str) -> bool:\n",
    "    s_ptr, t_ptr = 0, 0\n",
    "    s_len = len(s)\n",
    "    t_len = len(t)\n",
    "\n",
    "    while s_ptr < s_len and t_ptr < t_len:\n",
    "        if (s[s_ptr] == t[t_ptr]):\n",
    "            s_ptr += 1\n",
    "\n",
    "        t_ptr += 1\n",
    "\n",
    "    return s_ptr == s_len\n",
    "\n",
    "print(is_subsequence(s, t))"
   ]
  },
  {
   "cell_type": "markdown",
   "id": "d9738633-6091-42fb-9698-137bf8c679f2",
   "metadata": {},
   "source": [
    "#### Q) Write a function that reverses a string. The input string is given as an array of characters s. You must do this by modifying the input array in-place with O(1) extra memory."
   ]
  },
  {
   "cell_type": "code",
   "execution_count": 36,
   "id": "ae723f24-cb74-4bd8-b392-e307de711ace",
   "metadata": {},
   "outputs": [
    {
     "name": "stdout",
     "output_type": "stream",
     "text": [
      "['o', 'l', 'l', 'e', 'h']\n"
     ]
    }
   ],
   "source": [
    "from typing import List\n",
    "\n",
    "s = [\"h\", \"e\", \"l\", \"l\", \"o\"]\n",
    "\n",
    "def reverse_list(s: List) -> List:\n",
    "    start_ptr, end_ptr = 0, len(s) - 1\n",
    "\n",
    "    while start_ptr < end_ptr:\n",
    "        s[start_ptr], s[end_ptr] = s[end_ptr], s[start_ptr]\n",
    "        start_ptr += 1\n",
    "        end_ptr -= 1\n",
    "\n",
    "reverse_list(s)\n",
    "print(s)"
   ]
  },
  {
   "cell_type": "markdown",
   "id": "148bac71-9327-484a-ad0e-5d39d89f1792",
   "metadata": {},
   "source": [
    "#### Q) Given an integer array nums sorted in non-decreasing order, return an array of the squares of each number sorted in non-decreasing order."
   ]
  },
  {
   "cell_type": "code",
   "execution_count": 37,
   "id": "070b7340-5ac1-45fc-8b52-40ca4a6aa38c",
   "metadata": {},
   "outputs": [
    {
     "name": "stdout",
     "output_type": "stream",
     "text": [
      "[0, 1, 9, 16, 100]\n"
     ]
    }
   ],
   "source": [
    "from typing import List\n",
    "\n",
    "nums = [-4, -1, 0, 3, 10]\n",
    "\n",
    "def sorted_squares(nums: List) -> List:\n",
    "    sorted_nums = [0] * len(nums)\n",
    "    left_ptr, right_ptr = 0, len(nums) - 1\n",
    "\n",
    "    for last_index_of_new_array in range(len(nums) - 1, -1, -1):\n",
    "        if abs(nums[left_ptr]) >= abs(nums[right_ptr]):\n",
    "            sorted_nums[last_index_of_new_array] = nums[left_ptr] ** 2\n",
    "            left_ptr += 1\n",
    "        else:\n",
    "            sorted_nums[last_index_of_new_array] = nums[right_ptr] ** 2\n",
    "            right_ptr -= 1\n",
    "\n",
    "    return sorted_nums\n",
    "\n",
    "\n",
    "print(sorted_squares(nums))"
   ]
  },
  {
   "cell_type": "markdown",
   "id": "85dc6cf9-ca46-43d6-92ff-06ccd60e7316",
   "metadata": {},
   "source": [
    "## Introducing Sliding Window\n",
    "\n",
    "There is a very common group of problems involving subarrays that can be solved efficiently with sliding window. Let's talk about how to identify these problems.\n",
    "\n",
    "First, the problem will either explicitly or implicitly define criteria that make a subarray \"valid\". There are 2 components regarding what makes a subarray valid:\n",
    "\n",
    "- **A constraint metric:** This is some attribute of a subarray. It could be the sum, the number of unique elements, the frequency of a specific element, or any other attribute.\n",
    "- **A numeric restriction** on the constraint metric. This is what the constraint metric should be for a subarray to be considered valid.\n",
    "\n",
    "Second, the problem will ask you to find valid subarrays in some way.\n",
    "\n",
    "The most common task you will see is finding the best valid subarray. The problem will define what makes a subarray better than another. For example, a problem might ask you to find the longest valid subarray.\n",
    "\n",
    "Another common task is finding the number of valid subarrays. We will take a look at this later in the article.\n",
    "\n"
   ]
  },
  {
   "cell_type": "markdown",
   "id": "ee35f40a-c625-4aa8-aadf-05715dd3bd41",
   "metadata": {},
   "source": [
    "#### Q) Given an array of positive integers nums and an integer k, find the length of the longest subarray whose sum is less than or equal to k. "
   ]
  },
  {
   "cell_type": "code",
   "execution_count": 46,
   "id": "442f0af0-0f92-4113-9151-7cbe83d414ef",
   "metadata": {},
   "outputs": [
    {
     "name": "stdout",
     "output_type": "stream",
     "text": [
      "4\n"
     ]
    }
   ],
   "source": [
    "from typing import List\n",
    "\n",
    "nums = [3, 1, 2, 7, 4, 2, 1, 1, 5]\n",
    "k = 8\n",
    "\n",
    "def longest_subarray(nums: List, k: int) -> int:\n",
    "    left, max_length, sum = 0, 0, 0\n",
    "\n",
    "    for right in range(0, len(nums)):\n",
    "        sum += nums[right]\n",
    "        while (sum > k):\n",
    "            sum -= nums[left]\n",
    "            left += 1\n",
    "\n",
    "        size_of_window = right - left + 1\n",
    "        max_length  = max(max_length, size_of_window)\n",
    "\n",
    "    return max_length\n",
    "        \n",
    "\n",
    "print(longest_subarray(nums, k))"
   ]
  },
  {
   "cell_type": "markdown",
   "id": "34f90c0e-86f9-4d59-a411-f6c2f86cd724",
   "metadata": {},
   "source": [
    "#### Q) You are given a binary string `s` (a string containing only \"0\" and \"1\"). You may choose up to one \"0\" and flip it to a \"1\". What is the length of the longest substring achievable that contains only \"1\"?"
   ]
  },
  {
   "cell_type": "code",
   "execution_count": 57,
   "id": "b676366b-17a4-462f-aad3-9a0ed8cefa01",
   "metadata": {},
   "outputs": [
    {
     "name": "stdout",
     "output_type": "stream",
     "text": [
      "5\n"
     ]
    }
   ],
   "source": [
    "s = \"1101100111\"\n",
    "\n",
    "def longest_substring(s: str) -> int:\n",
    "    left = max_length = num_zeroes = 0\n",
    "\n",
    "    for right in range(len(nums)):\n",
    "        if s[right] == '0':\n",
    "            num_zeroes += 1\n",
    "\n",
    "        while (num_zeroes > 1):\n",
    "            if s[left] == '0':\n",
    "                num_zeroes -= 1\n",
    "            left += 1\n",
    "\n",
    "        max_length = max(max_length, right - left + 1)\n",
    "\n",
    "    return max_length\n",
    "    \n",
    "print(longest_substring(s))"
   ]
  },
  {
   "cell_type": "markdown",
   "id": "3ddc4469-966f-48fe-adb2-4b1fadcaaf8c",
   "metadata": {},
   "source": [
    "#### Q) Given an array of integers nums and an integer k, return the number of contiguous subarrays where the product of all the elements in the subarray is strictly less than k."
   ]
  },
  {
   "cell_type": "code",
   "execution_count": 66,
   "id": "e5852724-414d-4740-b842-8c73928f81ce",
   "metadata": {},
   "outputs": [
    {
     "name": "stdout",
     "output_type": "stream",
     "text": [
      "8\n"
     ]
    }
   ],
   "source": [
    "from typing import List\n",
    "\n",
    "nums = [10, 5, 2, 6]\n",
    "k = 100\n",
    "\n",
    "def number_of_subarrays(nums: List, k: int) -> int:\n",
    "    left = num_arrs = 0\n",
    "    product = 1\n",
    "\n",
    "    for right in range(len(nums)):\n",
    "        product *= nums[right]\n",
    "\n",
    "        while (product >= k) and (left <= right):\n",
    "            product /= nums[left]\n",
    "            left += 1\n",
    "\n",
    "        num_arrs += (right - left + 1)\n",
    "\n",
    "    return num_arrs\n",
    "\n",
    "print(number_of_subarrays(nums, k))"
   ]
  },
  {
   "cell_type": "markdown",
   "id": "0e47b1e3-cfa0-4d38-a38b-1d3bc04d70fa",
   "metadata": {},
   "source": [
    "#### Q) Given an integer array nums and an integer k, find the sum of the subarray with the largest sum whose length is k."
   ]
  },
  {
   "cell_type": "code",
   "execution_count": 67,
   "id": "c330e037-928f-4806-9252-462fa0e8c206",
   "metadata": {},
   "outputs": [
    {
     "name": "stdout",
     "output_type": "stream",
     "text": [
      "18\n"
     ]
    }
   ],
   "source": [
    "from typing import List\n",
    "\n",
    "nums = [3, -1, 4, 12, -8, 5, 6]\n",
    "k = 4 # 18\n",
    "\n",
    "def sum_of_subarray_with_largest_sum(nums: List[int], k: int) -> int:\n",
    "    left = right = sum = max_sum = 0\n",
    "\n",
    "    for right in range(0, k):\n",
    "        sum += nums[right]\n",
    "\n",
    "    max_sum = sum\n",
    "\n",
    "    for right in range(k, len(nums)):\n",
    "        left += 1\n",
    "        sum = sum - nums[left] + nums[right]\n",
    "        max_sum = max(max_sum, sum)\n",
    "\n",
    "    return max_sum\n",
    "\n",
    "print(sum_of_subarray_with_largest_sum(nums, k))"
   ]
  },
  {
   "cell_type": "markdown",
   "id": "7ee38bf8-93fa-4426-9e4f-e231cb273764",
   "metadata": {},
   "source": [
    "#### Q) You are given an integer array nums consisting of n elements, and an integer k. Find a contiguous subarray whose length is equal to k that has the maximum average value and return this value. Any answer with a calculation error less than 10-5 will be accepted."
   ]
  },
  {
   "cell_type": "code",
   "execution_count": 76,
   "id": "103f2bb6-1ca5-468e-8048-e2f0b1b94ce7",
   "metadata": {},
   "outputs": [
    {
     "name": "stdout",
     "output_type": "stream",
     "text": [
      "12.75\n"
     ]
    }
   ],
   "source": [
    "from typing import List\n",
    "\n",
    "nums, k = [1,12,-5,-6,50,3], 4\n",
    "\n",
    "def contiguous_subarray(nums: List[int], k: int) -> int:\n",
    "    right = sum = 0\n",
    "    n = len(nums)\n",
    "\n",
    "    for right in range(0, k):\n",
    "        sum += nums[right]\n",
    "\n",
    "    average = sum / k\n",
    "    max_average = average\n",
    "\n",
    "    for right in range(k, n):\n",
    "        sum = sum + nums[right] - nums[right - k]\n",
    "        average = sum / k\n",
    "\n",
    "        max_average = max(max_average, average)\n",
    "\n",
    "    return max_average\n",
    "\n",
    "print(contiguous_subarray(nums, k))"
   ]
  },
  {
   "cell_type": "markdown",
   "id": "36d74d1f-f0f2-4c23-a027-4394b8780617",
   "metadata": {},
   "source": [
    "#### Q) Given a binary array nums and an integer k, return the maximum number of consecutive 1's in the array if you can flip at most k 0's."
   ]
  },
  {
   "cell_type": "code",
   "execution_count": 83,
   "id": "4898796d-a7de-419d-8173-354226e29862",
   "metadata": {},
   "outputs": [
    {
     "name": "stdout",
     "output_type": "stream",
     "text": [
      "6\n"
     ]
    }
   ],
   "source": [
    "from typing import List\n",
    "\n",
    "nums = [1,1,1,0,0,0,1,1,1,1,0]\n",
    "k = 2\n",
    "\n",
    "def max_consecutive_ones(nums: List[int], k: int) -> int:\n",
    "    left = num_zeroes = max_ones = 0\n",
    "\n",
    "    for right in range(len(nums)):\n",
    "        if nums[right] == 0:\n",
    "            num_zeroes += 1\n",
    "\n",
    "        while num_zeroes > k :\n",
    "            if nums[left] == 0:\n",
    "                num_zeroes -= 1\n",
    "            left += 1\n",
    "\n",
    "        max_ones = max(max_ones, right - left + 1)\n",
    "\n",
    "    return max_ones\n",
    "            \n",
    "\n",
    "print(max_consecutive_ones(nums, k))"
   ]
  },
  {
   "cell_type": "markdown",
   "id": "fca67900-8e41-422e-852c-86d7babde238",
   "metadata": {},
   "source": [
    "### Prefix Sum\n",
    "\n",
    "Prefix sum is a technique that can be used on arrays (of numbers). The idea is to create an array prefix where prefix[i] is the sum of all elements up to the index i (inclusive). For example, given nums = [5, 2, 1, 6, 3, 8], we would have prefix = [5, 7, 8, 14, 17, 25]\n",
    "\n",
    "Building a prefix sum is a form of pre-processing. Pre-processing is a useful strategy in a variety of problems where we store pre-computed data in a data structure before running the main logic of our algorithm. While it takes some time to pre-process, it's an investment that will save us a huge amount of time during the main parts of the algorithm."
   ]
  },
  {
   "cell_type": "code",
   "execution_count": 84,
   "id": "6ea55222-689d-40e2-ab7c-bb34c9f05bfd",
   "metadata": {},
   "outputs": [
    {
     "name": "stdout",
     "output_type": "stream",
     "text": [
      "[1, 3, 6, 10, 15, 21, 28, 36, 45]\n"
     ]
    }
   ],
   "source": [
    "arr = [1, 2, 3, 4, 5, 6, 7, 8, 9]\n",
    "\n",
    "prefix_sum_arr = [arr[0]]\n",
    "for i in range(1, len(arr)):\n",
    "    prefix_sum_arr.append(arr[i] + prefix_sum_arr[i - 1])\n",
    "\n",
    "print(prefix_sum_arr)"
   ]
  },
  {
   "cell_type": "markdown",
   "id": "6d9b83a0-3120-439b-9784-91ce5849493e",
   "metadata": {},
   "source": [
    "#### Q) Given an integer array nums, an array queries where queries[i] = [x, y] and an integer limit, return a boolean array that represents the answer to each query. A query is true if the sum of the subarray from x to y is less than limit, or false otherwise.\n",
    "\n",
    "For example, given nums = [1, 6, 3, 2, 7, 2], queries = [[0, 3], [2, 5], [2, 4]], and limit = 13, the answer is [true, false, true]. For each query, the subarray sums are [12, 14, 12]."
   ]
  },
  {
   "cell_type": "code",
   "execution_count": 92,
   "id": "577afe6c-4dbd-4298-a423-debbbb731d47",
   "metadata": {},
   "outputs": [
    {
     "name": "stdout",
     "output_type": "stream",
     "text": [
      "[True, False, True]\n"
     ]
    }
   ],
   "source": [
    "from typing import List\n",
    "\n",
    "nums = [1, 6, 3, 2, 7, 2]\n",
    "queries = [[0, 3], [2, 5], [2, 4]]\n",
    "limit = 13\n",
    "\n",
    "def answer_queries(nums: List[int], queries: List[int], limit: int) -> List[bool]:\n",
    "    bool_arr = [False] * len(queries)\n",
    "    prefix_sum_arr = [nums[0]]\n",
    "    for i in range(1, len(nums)):\n",
    "        prefix_sum_arr.append(nums[i] + prefix_sum_arr[i - 1])\n",
    "\n",
    "    for i in range(len(queries)):\n",
    "        query_start_index = queries[i][0]\n",
    "        query_end_index = queries[i][1]\n",
    "\n",
    "        subarr_sum = prefix_sum_arr[query_end_index] - prefix_sum_arr[query_start_index] + nums[query_start_index]\n",
    "\n",
    "        if subarr_sum < limit:\n",
    "            bool_arr[i] = True\n",
    "        else:\n",
    "            bool_arr[i] = False\n",
    "\n",
    "    return bool_arr\n",
    "            \n",
    "\n",
    "print(answer_queries(nums, queries, limit))"
   ]
  },
  {
   "cell_type": "markdown",
   "id": "4087783d-9d53-4ee8-92d2-8462ef51d245",
   "metadata": {},
   "source": [
    "#### Q) Given an integer array nums, find the number of ways to split the array into two parts so that the first section has a sum greater than or equal to the sum of the second section. The second section should have at least one number."
   ]
  },
  {
   "cell_type": "code",
   "execution_count": 112,
   "id": "a3182ec6-4152-43a4-9c6c-dfb79b66445d",
   "metadata": {},
   "outputs": [
    {
     "name": "stdout",
     "output_type": "stream",
     "text": [
      "2\n"
     ]
    }
   ],
   "source": [
    "from typing import List\n",
    "\n",
    "nums = [10,4,-8,7]\n",
    "# nums =[6,-1,9]\n",
    "\n",
    "def ways_to_split_array(nums: List[int]) -> int:\n",
    "    prefix_sum_arr = [nums[0]]\n",
    "    ways_to_split = 0\n",
    "    for i in range(1, len(nums)):\n",
    "        prefix_sum_arr.append(nums[i] + prefix_sum_arr[i - 1])\n",
    "\n",
    "    for i in range(len(nums) - 1):\n",
    "        first_part_sum = prefix_sum_arr[i] \n",
    "        second_part_sum = prefix_sum_arr[-1] - first_part_sum\n",
    "\n",
    "        if first_part_sum >= second_part_sum:\n",
    "            ways_to_split += 1\n",
    "\n",
    "    return ways_to_split\n",
    "\n",
    "print(ways_to_split_array(nums))"
   ]
  },
  {
   "cell_type": "markdown",
   "id": "1955575d-404c-429f-a21e-7db14f531f16",
   "metadata": {},
   "source": [
    "#### Q) Given an array of integers nums, you start with an initial positive value startValue. In each iteration, you calculate the step by step sum of startValue plus elements in nums (from left to right). Return the minimum positive value of startValue such that the step by step sum is never less than 1."
   ]
  },
  {
   "cell_type": "code",
   "execution_count": 122,
   "id": "eb8a0996-e7e8-4946-88a4-6ff1ca72a419",
   "metadata": {},
   "outputs": [
    {
     "name": "stdout",
     "output_type": "stream",
     "text": [
      "5\n"
     ]
    }
   ],
   "source": [
    "from typing import List\n",
    "\n",
    "nums = [-3, 2, -3, 4, 2]\n",
    "# nums = [1, 2]\n",
    "\n",
    "def min_start_value(nums: List[int]) -> int:\n",
    "    prefix_sum_arr = [nums[0]]\n",
    "    for i in range(1, len(nums)):\n",
    "        prefix_sum_arr.append(nums[i] + prefix_sum_arr[i - 1])\n",
    "        \n",
    "    min_value_in_prefix_sum_arr = min(prefix_sum_arr)\n",
    "    difference = 1\n",
    "\n",
    "    if min_value_in_prefix_sum_arr < 0:\n",
    "        return abs(min_value_in_prefix_sum_arr) + 1\n",
    "    \n",
    "    return 1\n",
    "\n",
    "print(min_start_value(nums))"
   ]
  },
  {
   "cell_type": "markdown",
   "id": "afaa0476-e150-4b2a-92ef-371ab04932f6",
   "metadata": {},
   "source": [
    "#### Q) You are given a 0-indexed array nums of n integers, and an integer k.\n",
    "\n",
    "The k-radius average for a subarray of nums centered at some index i with the radius k is the average of all elements in nums between the indices i - k and i + k (inclusive). If there are less than k elements before or after the index i, then the k-radius average is -1.\n",
    "\n",
    "Build and return an array avgs of length n where avgs[i] is the k-radius average for the subarray centered at index i.\n",
    "\n",
    "The average of x elements is the sum of the x elements divided by x, using integer division. The integer division truncates toward zero, which means losing its fractional part.\n",
    "\n",
    "For example, the average of four elements 2, 3, 1, and 5 is (2 + 3 + 1 + 5) / 4 = 11 / 4 = 2.75, which truncates to 2."
   ]
  },
  {
   "cell_type": "code",
   "execution_count": 138,
   "id": "ea186ef5-76ce-4870-a2d7-d3ed412d09c5",
   "metadata": {},
   "outputs": [
    {
     "name": "stdout",
     "output_type": "stream",
     "text": [
      "[-1, -1, -1, 5, 4, 4, -1, -1, -1]\n"
     ]
    }
   ],
   "source": [
    "from typing import List\n",
    "\n",
    "nums = [7,4,3,9,1,8,5,2,6]\n",
    "k = 3\n",
    "\n",
    "\"\"\"\n",
    "[7,4,3,9,1,8,5,2,6]\n",
    "\"\"\"\n",
    "\n",
    "def subarray_averages(nums: List[int], k: int) -> List[int]:\n",
    "    averages_arr = [-1] * len(nums)\n",
    "    prefix_sum_arr = [nums[0]]\n",
    "    for i in range(1, len(nums)):\n",
    "        prefix_sum_arr.append(nums[i] + prefix_sum_arr[i - 1])\n",
    "\n",
    "    end_ptr = total_nums_index = (k * 2) \n",
    "    mid_ptr = int(end_ptr / 2)\n",
    "    \n",
    "    while end_ptr < len(nums):\n",
    "        sum_of_subarr = prefix_sum_arr[end_ptr] - prefix_sum_arr[end_ptr - total_nums_index] + nums[end_ptr - total_nums_index]\n",
    "        average_of_subarr = sum_of_subarr // (total_nums_index + 1)\n",
    "        averages_arr[mid_ptr] = average_of_subarr\n",
    "        end_ptr += 1\n",
    "        mid_ptr += 1\n",
    "\n",
    "    return averages_arr\n",
    "\n",
    "print(subarray_averages(nums, k))"
   ]
  },
  {
   "cell_type": "code",
   "execution_count": null,
   "id": "ceae8df2-eb1b-4659-aa74-3e47ee5b5390",
   "metadata": {},
   "outputs": [],
   "source": []
  }
 ],
 "metadata": {
  "kernelspec": {
   "display_name": "Python 3 (ipykernel)",
   "language": "python",
   "name": "python3"
  },
  "language_info": {
   "codemirror_mode": {
    "name": "ipython",
    "version": 3
   },
   "file_extension": ".py",
   "mimetype": "text/x-python",
   "name": "python",
   "nbconvert_exporter": "python",
   "pygments_lexer": "ipython3",
   "version": "3.12.4"
  }
 },
 "nbformat": 4,
 "nbformat_minor": 5
}
