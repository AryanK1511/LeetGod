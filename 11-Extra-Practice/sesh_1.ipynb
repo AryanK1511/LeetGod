{
 "cells": [
  {
   "cell_type": "code",
   "execution_count": 2,
   "id": "1ad1386b-776c-4bc5-bb5d-b0bc273d2953",
   "metadata": {},
   "outputs": [
    {
     "name": "stdout",
     "output_type": "stream",
     "text": [
      "False\n"
     ]
    }
   ],
   "source": [
    "# Category: Easy\n",
    "# https://leetcode.com/problems/contains-duplicate/description/\n",
    "\n",
    "from typing import List\n",
    "\n",
    "nums = [1, 2, 3, 4]\n",
    "\n",
    "def contains_duplicate(nums: List[int]) -> bool:\n",
    "    nums_set = set(nums)\n",
    "    return len(nums_set) != len(nums)\n",
    "\n",
    "print(contains_duplicate(nums))"
   ]
  },
  {
   "cell_type": "code",
   "execution_count": 3,
   "id": "f4fb7f59-c8bc-41bc-938b-6a9b227e845e",
   "metadata": {},
   "outputs": [
    {
     "name": "stdout",
     "output_type": "stream",
     "text": [
      "True\n"
     ]
    }
   ],
   "source": [
    "# Category: Easy\n",
    "# https://leetcode.com/problems/valid-anagram/description/\n",
    "\n",
    "s, t = \"anagram\", \"nagaram\"\n",
    "\n",
    "def is_anagram(s: str, t: str) -> bool:\n",
    "    hash_map = {}\n",
    "    for char in s:\n",
    "        if char in hash_map:\n",
    "            hash_map[char] += 1\n",
    "        else:\n",
    "            hash_map[char] = 1\n",
    "\n",
    "    for char in t:\n",
    "        if char in hash_map:\n",
    "            hash_map[char] -= 1\n",
    "        else:\n",
    "            return False\n",
    "\n",
    "    for value in hash_map.values():\n",
    "        if value != 0:\n",
    "            return False\n",
    "\n",
    "    return True\n",
    " \n",
    "print(is_anagram(s, t))"
   ]
  },
  {
   "cell_type": "code",
   "execution_count": 4,
   "id": "5e7ef148-1a99-44ed-a6a3-8eff39ff0b14",
   "metadata": {},
   "outputs": [
    {
     "name": "stdout",
     "output_type": "stream",
     "text": [
      "\n",
      "dict_values([[['']]])\n"
     ]
    }
   ],
   "source": [
    "# Category: Medium\n",
    "# https://leetcode.com/problems/group-anagrams/submissions/1332338445/\n",
    "# strs = [\"eat\",\"tea\",\"tan\",\"ate\",\"nat\",\"bat\"]\n",
    "strs = [[\"\"]]\n",
    "\n",
    "def group_anagrams(strs: List[str]) -> List[str]:\n",
    "    hash_map = {}\n",
    "    for i in range(len(strs)):\n",
    "        sorted_str = ''.join(sorted(strs[i]))\n",
    "        print(sorted_str)\n",
    "        if sorted_str not in hash_map:\n",
    "            hash_map[sorted_str] = [strs[i]]\n",
    "        else:\n",
    "            hash_map[sorted_str].append(strs[i])\n",
    "\n",
    "    return hash_map.values()\n",
    "    \n",
    "print(group_anagrams(strs))"
   ]
  },
  {
   "cell_type": "code",
   "execution_count": 5,
   "id": "aa1676c8-1f69-4e34-b678-7b9f3f7ef065",
   "metadata": {},
   "outputs": [
    {
     "name": "stdout",
     "output_type": "stream",
     "text": [
      "[1]\n"
     ]
    }
   ],
   "source": [
    "# Category: Medium\n",
    "# https://leetcode.com/problems/top-k-frequent-elements/description/\n",
    "\n",
    "# nums = [1,1,1,2,2,3]\n",
    "# k = 2\n",
    "\n",
    "nums = [1]\n",
    "k = 1\n",
    "\n",
    "def top_k_frequent(nums: List[int], k: int) -> List[int]:\n",
    "    hash_map = {}\n",
    "    ret_list = []\n",
    "\n",
    "    for num in nums:\n",
    "        if num not in hash_map:\n",
    "            hash_map[num] = 1\n",
    "        else:\n",
    "            hash_map[num] += 1\n",
    "\n",
    "    for i in range(k):\n",
    "        ret_list.append(max(hash_map, key=hash_map.get))\n",
    "        del hash_map[max(hash_map, key=hash_map.get)]\n",
    "\n",
    "    return ret_list\n",
    "        \n",
    "\n",
    "print(top_k_frequent(nums, k))"
   ]
  },
  {
   "cell_type": "code",
   "execution_count": 6,
   "id": "1f2b25cc-4ba6-4b3c-89d3-2f5d0ba9b422",
   "metadata": {},
   "outputs": [
    {
     "name": "stdout",
     "output_type": "stream",
     "text": [
      "[0, 0, 9, 0, 0]\n"
     ]
    }
   ],
   "source": [
    "# Category: Medium\n",
    "# https://leetcode.com/problems/product-of-array-except-self/description/\n",
    "\n",
    "# nums = [1,2,3,4]\n",
    "nums = [-1, 1, 0, -3, 3]\n",
    "\n",
    "def product_except_self(nums: List[int]) -> List[int]:\n",
    "    left_prod_arr = nums.copy()\n",
    "    right_prod_arr = nums.copy()\n",
    "    \n",
    "    left_prod_arr[0] = 1\n",
    "    right_prod_arr[-1] = 1\n",
    "\n",
    "    for i in range(1, len(nums)):\n",
    "        left_prod_arr[i] = nums[i - 1] * left_prod_arr[i - 1]\n",
    "\n",
    "    for i in range(len(nums) - 2, -1, -1):\n",
    "        right_prod_arr[i] = nums[i + 1] * right_prod_arr[i + 1]\n",
    "    \n",
    "    for i in range(len(nums)):\n",
    "        nums[i] = left_prod_arr[i] * right_prod_arr[i]\n",
    "\n",
    "    return nums\n",
    "\n",
    "        \n",
    "print(product_except_self(nums))"
   ]
  },
  {
   "cell_type": "code",
   "execution_count": 7,
   "id": "dfd757ae-9e2e-45d8-95d6-e3baca2fc183",
   "metadata": {},
   "outputs": [
    {
     "name": "stdout",
     "output_type": "stream",
     "text": [
      "4\n"
     ]
    }
   ],
   "source": [
    "# Category: Medium\n",
    "# https://leetcode.com/problems/longest-consecutive-sequence/description/\n",
    "\n",
    "nums = [100,4,200,1,3,2]\n",
    "\n",
    "def longest_consecutive(nums: List[int]):\n",
    "    longest_seq = 0\n",
    "    nums_set = set(nums)\n",
    "\n",
    "    for num in nums:\n",
    "        count = 0\n",
    "        if num in nums_set:\n",
    "            nums_set.remove(num)\n",
    "            temp = num\n",
    "            while (temp + 1) in nums_set:\n",
    "                count += 1\n",
    "                temp += 1\n",
    "                nums_set.remove(temp)\n",
    "\n",
    "            temp = num\n",
    "            while (temp - 1) in nums_set:\n",
    "                count += 1\n",
    "                temp -= 1\n",
    "                nums_set.remove(temp)\n",
    "\n",
    "        longest_seq = max(longest_seq, count + 1)\n",
    "\n",
    "    return longest_seq\n",
    "\n",
    "\n",
    "print(longest_consecutive(nums))"
   ]
  },
  {
   "cell_type": "code",
   "execution_count": null,
   "id": "6c51c8be-2640-47a1-aad1-47522e9d13aa",
   "metadata": {},
   "outputs": [],
   "source": []
  },
  {
   "cell_type": "code",
   "execution_count": null,
   "id": "9e0c7439-e92d-414b-9357-cf70c256ed40",
   "metadata": {},
   "outputs": [],
   "source": []
  }
 ],
 "metadata": {
  "kernelspec": {
   "display_name": "Python 3 (ipykernel)",
   "language": "python",
   "name": "python3"
  },
  "language_info": {
   "codemirror_mode": {
    "name": "ipython",
    "version": 3
   },
   "file_extension": ".py",
   "mimetype": "text/x-python",
   "name": "python",
   "nbconvert_exporter": "python",
   "pygments_lexer": "ipython3",
   "version": "3.12.4"
  }
 },
 "nbformat": 4,
 "nbformat_minor": 5
}
