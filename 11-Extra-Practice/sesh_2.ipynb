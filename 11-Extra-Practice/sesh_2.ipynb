{
 "cells": [
  {
   "cell_type": "code",
   "execution_count": 1,
   "id": "90337b60-962f-4471-ab61-eebe1560211d",
   "metadata": {},
   "outputs": [
    {
     "name": "stdout",
     "output_type": "stream",
     "text": [
      "[1, 2]\n"
     ]
    }
   ],
   "source": [
    "# Category: Medium\n",
    "# https://leetcode.com/problems/two-sum-ii-input-array-is-sorted/description/\n",
    "from typing import List\n",
    "\n",
    "numbers = [2,7,11,15]\n",
    "target = 9\n",
    "\n",
    "def two_sum_but_diff(numbers: List[int], target: int) -> List[int]:\n",
    "    left, right = 0, len(numbers) - 1\n",
    "\n",
    "    while left < right:\n",
    "        if numbers[left] + numbers[right] == target:\n",
    "            return [left + 1, right + 1]\n",
    "        elif numbers[left] + numbers[right] > target:\n",
    "            right -= 1\n",
    "        else:\n",
    "            left += 1\n",
    "\n",
    "    return [0, 0]\n",
    "        \n",
    "\n",
    "print(two_sum_but_diff(numbers, target))"
   ]
  },
  {
   "cell_type": "code",
   "execution_count": 1,
   "id": "6515edcf-449c-4b03-bad1-34b365e2cdf2",
   "metadata": {},
   "outputs": [
    {
     "name": "stdout",
     "output_type": "stream",
     "text": [
      "[[-1, 2, -1], [0, 1, -1]]\n"
     ]
    }
   ],
   "source": [
    "# Category: Medium\n",
    "# https://leetcode.com/problems/3sum/\n",
    "\n",
    "from typing import List\n",
    "\n",
    "nums = [-1,0,1,2,-1,-4]\n",
    "def three_sum(nums: list[int]) -> List[List[int]]:\n",
    "    nums.sort()\n",
    "    ret_arr = []\n",
    "\n",
    "    for i in range(len(nums) - 2):\n",
    "        if i > 0 and nums[i] == nums[i - 1]:\n",
    "            continue\n",
    "            \n",
    "        left_ptr, right_ptr = i + 1, len(nums) - 1\n",
    "\n",
    "        while left_ptr < right_ptr:\n",
    "            total = nums[left_ptr] + nums[right_ptr] + nums[i]\n",
    "\n",
    "            if total == 0:\n",
    "                ret_arr.append([nums[left_ptr], nums[right_ptr], nums[i]])\n",
    "                left_ptr += 1\n",
    "                right_ptr -= 1\n",
    "\n",
    "                while left_ptr < right_ptr and nums[left_ptr] == nums[left_ptr - 1]:\n",
    "                    left_ptr += 1\n",
    "\n",
    "                while left_ptr < right_ptr and nums[right_ptr] == nums[right_ptr + 1]:\n",
    "                    right_ptr -= 1\n",
    "\n",
    "            elif total > 0:\n",
    "                right_ptr -= 1\n",
    "\n",
    "            else:\n",
    "                left_ptr += 1\n",
    "    \n",
    "    return ret_arr\n",
    "\n",
    "print(three_sum(nums))"
   ]
  },
  {
   "cell_type": "code",
   "execution_count": 12,
   "id": "0c75e2a2-7ab6-4eb0-adea-cc4b21262477",
   "metadata": {},
   "outputs": [
    {
     "name": "stdout",
     "output_type": "stream",
     "text": [
      "49\n"
     ]
    }
   ],
   "source": [
    "# Category: Medium\n",
    "# https://leetcode.com/problems/container-with-most-water/description/\n",
    "\n",
    "from typing import List\n",
    "\n",
    "height = [1,8,6,2,5,4,8,3,7]\n",
    "\n",
    "def container_with_most_water(height: List[int]) -> int:\n",
    "    left, right = 0, len(height) - 1\n",
    "    max_area = 0\n",
    "    while left < right:    \n",
    "        area = min(height[left], height[right]) * (right - left)\n",
    "        max_area = max(max_area, area)\n",
    "\n",
    "        if height[left] < height[right]:\n",
    "            left += 1\n",
    "        else:\n",
    "            right -= 1\n",
    "\n",
    "    return max_area\n",
    "\n",
    "print(container_with_most_water(height))"
   ]
  },
  {
   "cell_type": "code",
   "execution_count": 4,
   "id": "b524b9bb-b8e0-4ce4-9e58-796c581e1fa3",
   "metadata": {},
   "outputs": [
    {
     "name": "stdout",
     "output_type": "stream",
     "text": [
      "LEFT,  0\n",
      "LEFT,  1\n",
      "LEFT,  1\n",
      "LEFT,  2\n",
      "LEFT,  3\n",
      "LEFT,  3\n",
      "LEFT,  3\n",
      "LEFT,  3\n",
      "LEFT,  4\n",
      "LEFT,  5\n",
      "LEFT,  6\n",
      "6\n"
     ]
    }
   ],
   "source": [
    "# Category: Hard\n",
    "# https://leetcode.com/problems/trapping-rain-water/description/\n",
    "\n",
    "from typing import List\n",
    "\n",
    "# height = [0,1,0,2,1,0,1,3,2,1,2,1]\n",
    "height = [0,1,0,2,1,0,1,3,2,1,2,1]\n",
    "\n",
    "def trapping_rainwater(height: List[int]) -> int:\n",
    "    left, right = 0, len(height) - 1\n",
    "    left_max, right_max = height[left], height[right]\n",
    "    res = 0\n",
    "\n",
    "    while left < right:\n",
    "        print(\"LEFT, \", left)\n",
    "        if left_max < right_max:\n",
    "            left += 1\n",
    "            left_max = max(left_max, height[left])\n",
    "            res += left_max - height[left]\n",
    "        else:\n",
    "            right -= 1\n",
    "            right_max = max(right_max, height[right])\n",
    "            res += right_max - height[right]\n",
    "\n",
    "    return res\n",
    "\n",
    "print(trapping_rainwater(height));"
   ]
  },
  {
   "cell_type": "code",
   "execution_count": null,
   "id": "eebb626f-6c4e-44a7-a058-6ca27b29e403",
   "metadata": {},
   "outputs": [],
   "source": []
  }
 ],
 "metadata": {
  "kernelspec": {
   "display_name": "Python 3 (ipykernel)",
   "language": "python",
   "name": "python3"
  },
  "language_info": {
   "codemirror_mode": {
    "name": "ipython",
    "version": 3
   },
   "file_extension": ".py",
   "mimetype": "text/x-python",
   "name": "python",
   "nbconvert_exporter": "python",
   "pygments_lexer": "ipython3",
   "version": "3.12.4"
  }
 },
 "nbformat": 4,
 "nbformat_minor": 5
}
