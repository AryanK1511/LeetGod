{
 "cells": [
  {
   "cell_type": "code",
   "execution_count": 1,
   "id": "90337b60-962f-4471-ab61-eebe1560211d",
   "metadata": {},
   "outputs": [
    {
     "name": "stdout",
     "output_type": "stream",
     "text": [
      "[1, 2]\n"
     ]
    }
   ],
   "source": [
    "# https://leetcode.com/problems/two-sum-ii-input-array-is-sorted/description/\n",
    "from typing import List\n",
    "\n",
    "numbers = [2,7,11,15]\n",
    "target = 9\n",
    "\n",
    "def two_sum_but_diff(numbers: List[int], target: int) -> List[int]:\n",
    "    left, right = 0, len(numbers) - 1\n",
    "\n",
    "    while left < right:\n",
    "        if numbers[left] + numbers[right] == target:\n",
    "            return [left + 1, right + 1]\n",
    "        elif numbers[left] + numbers[right] > target:\n",
    "            right -= 1\n",
    "        else:\n",
    "            left += 1\n",
    "\n",
    "    return [0, 0]\n",
    "        \n",
    "\n",
    "print(two_sum_but_diff(numbers, target))"
   ]
  },
  {
   "cell_type": "code",
   "execution_count": null,
   "id": "6515edcf-449c-4b03-bad1-34b365e2cdf2",
   "metadata": {},
   "outputs": [],
   "source": []
  }
 ],
 "metadata": {
  "kernelspec": {
   "display_name": "Python 3 (ipykernel)",
   "language": "python",
   "name": "python3"
  },
  "language_info": {
   "codemirror_mode": {
    "name": "ipython",
    "version": 3
   },
   "file_extension": ".py",
   "mimetype": "text/x-python",
   "name": "python",
   "nbconvert_exporter": "python",
   "pygments_lexer": "ipython3",
   "version": "3.12.4"
  }
 },
 "nbformat": 4,
 "nbformat_minor": 5
}
