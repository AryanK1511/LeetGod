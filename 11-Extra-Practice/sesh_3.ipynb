{
 "cells": [
  {
   "cell_type": "code",
   "execution_count": 54,
   "id": "3f494a8e-bc25-4d60-88e7-12d8c000d6e4",
   "metadata": {},
   "outputs": [
    {
     "name": "stdout",
     "output_type": "stream",
     "text": [
      "True\n"
     ]
    }
   ],
   "source": [
    "s = \"anagram\"\n",
    "t = \"nagaram\"\n",
    "\n",
    "def is_anagram(s, t):\n",
    "    s_hash, t_hash = {}, {}\n",
    "\n",
    "    for char in s:\n",
    "        if char not in s_hash:\n",
    "            s_hash[char] = 1\n",
    "        else:\n",
    "            s_hash[char] += 1\n",
    "\n",
    "    for char in t:\n",
    "        if char not in s_hash:\n",
    "            return False\n",
    "\n",
    "        s_hash[char] -= 1\n",
    "\n",
    "    for key, value in s_hash.items():\n",
    "        if value != 0:\n",
    "            return False\n",
    "\n",
    "    return True\n",
    "    \n",
    "print(is_anagram(s, t))"
   ]
  },
  {
   "cell_type": "code",
   "execution_count": 55,
   "id": "963b91cb-9056-4819-9fac-a56377831975",
   "metadata": {},
   "outputs": [
    {
     "name": "stdout",
     "output_type": "stream",
     "text": [
      "dict_values([['eat', 'tea', 'ate'], ['tan', 'nat'], ['bat']])\n"
     ]
    }
   ],
   "source": [
    "strs = [\"eat\",\"tea\",\"tan\",\"ate\",\"nat\",\"bat\"]\n",
    "\n",
    "def group_anagrams(strs):\n",
    "    d = {}\n",
    "    for s in strs:\n",
    "        if str(sorted(s)) not in d:\n",
    "            d[str(sorted(s))] = [s]\n",
    "        else:\n",
    "            d[str(sorted(s))].append(s)\n",
    "\n",
    "    return d.values()\n",
    "\n",
    "print(group_anagrams(strs))"
   ]
  },
  {
   "cell_type": "code",
   "execution_count": 56,
   "id": "286ff08c-77b7-45a9-9fda-faaca7e6f905",
   "metadata": {},
   "outputs": [
    {
     "name": "stdout",
     "output_type": "stream",
     "text": [
      "[6, 5]\n"
     ]
    }
   ],
   "source": [
    "from collections import defaultdict\n",
    "\n",
    "nums = [5, 5, 5, 4, 4, 6, 6, 6, 6, 6, 6]\n",
    "k = 2\n",
    "\n",
    "def top_K_frequent(nums, k):\n",
    "    d = defaultdict(int)\n",
    "    \n",
    "    for num in nums:\n",
    "        d[num] += 1\n",
    "\n",
    "    l = []\n",
    "    for ky, v in sorted(d.items(), key=lambda item: item[1], reverse=True):\n",
    "        l.append(ky)\n",
    "\n",
    "    return l[:k]\n",
    "        \n",
    "\n",
    "print(top_K_frequent(nums, k))"
   ]
  },
  {
   "cell_type": "code",
   "execution_count": null,
   "id": "c5d9830f-60f5-453c-aa99-ddf839b87215",
   "metadata": {},
   "outputs": [],
   "source": [
    "strs = [\"Hello\", \"Wor ld\", \"I\", \"am\", \"GOD\"]\n",
    "\n",
    "def encode(strs):\n",
    "    encoded_str = \"\"\n",
    "\n",
    "    for i in range(len(strs)):\n",
    "        if strs[i] == \"\":  \n",
    "            encoded_str += \"*\"\n",
    "        else:\n",
    "            for j in range(len(strs[i])):\n",
    "                encoded_str += str(ord(strs[i][j]))\n",
    "                if j != len(strs[i]) - 1:\n",
    "                    encoded_str += \"-\"\n",
    "        if i != len(strs[i]) - 1 and i != len(strs) - 1:\n",
    "            encoded_str += \"+\"\n",
    "\n",
    "    print(encoded_str)\n",
    "    return encoded_str\n",
    "        \n",
    "def decode(s):\n",
    "    decoded_list = []\n",
    "    decoded_item = \"\"\n",
    "    ascii_value = \"\"\n",
    "\n",
    "    i = 0\n",
    "    \n",
    "    while i < len(s):\n",
    "        if s[i] == \"*\": \n",
    "            decoded_list.append(\"\")\n",
    "        elif s[i] == \"-\":\n",
    "            decoded_item += chr(int(ascii_value))\n",
    "            ascii_value = \"\"\n",
    "        elif s[i] == \"+\":\n",
    "            decoded_item += chr(int(ascii_value))\n",
    "            decoded_list.append(decoded_item)\n",
    "            decoded_item = \"\"\n",
    "            ascii_value = \"\"\n",
    "        else:\n",
    "            ascii_value += s[i]\n",
    "        \n",
    "        i += 1\n",
    "\n",
    "    if ascii_value:\n",
    "        decoded_item += chr(int(ascii_value))\n",
    "    if decoded_item:\n",
    "        decoded_list.append(decoded_item)\n",
    "    \n",
    "    return decoded_list\n",
    "            \n",
    "            \n",
    "\n",
    "print(decode(encode(strs)))"
   ]
  },
  {
   "cell_type": "code",
   "execution_count": null,
   "id": "f3af7da4-4977-46b3-8100-32c10a9401cf",
   "metadata": {},
   "outputs": [],
   "source": []
  }
 ],
 "metadata": {
  "kernelspec": {
   "display_name": "Python 3 (ipykernel)",
   "language": "python",
   "name": "python3"
  },
  "language_info": {
   "codemirror_mode": {
    "name": "ipython",
    "version": 3
   },
   "file_extension": ".py",
   "mimetype": "text/x-python",
   "name": "python",
   "nbconvert_exporter": "python",
   "pygments_lexer": "ipython3",
   "version": "3.12.4"
  }
 },
 "nbformat": 4,
 "nbformat_minor": 5
}
